{
 "cells": [
  {
   "cell_type": "markdown",
   "metadata": {},
   "source": [
    "The intent of this algorithm is to model the complex socio-economic factors considered by a judge when setting a defendant’s bail amount for pre-trial detention, and to produce a rigorous and math-based determination for what the dollar amount the bail should be set at. The importance of using an machine learning algorithm in these situations is because human judges are subject to human biases (whether they are intentional or latent) and can have an unintended and disastrous impact on the defendant. In this case an algorithm carefully designed to mitigate agains these biases will provide the optimal outcome.\n",
    "\n",
    "The features of the model will reflect demographic information about the defendent, and the target variable to be predicted will be a class assigned to a numeric variable associated with the recommended dollar amount that bail should be set at.\n",
    "\n",
    "#### Training data:\n",
    "- [\"Accused Pre-Trial Inmates in Correctional Facilities\" dataset](https://data.ct.gov/Public-Safety/Accused-Pre-Trial-Inmates-in-Correctional-Faciliti/b674-jy6w)"
   ]
  },
  {
   "cell_type": "code",
   "execution_count": 1,
   "metadata": {},
   "outputs": [],
   "source": [
    "%config InlineBackend.figure_format = 'retina'\n",
    "import re\n",
    "import requests\n",
    "import pandas as pd\n",
    "import numpy as np\n",
    "\n",
    "from sklearn.model_selection import train_test_split\n",
    "from sklearn.pipeline import Pipeline\n",
    "from sklearn.preprocessing import OneHotEncoder\n",
    "from sklearn.ensemble import RandomForestClassifier\n",
    "\n",
    "from sklearn_transformers.classifier_helpers import FeatureSelector\n",
    "from sklearn_transformers.classifier_helpers import MultiColumnLabelEncoder\n",
    "from sklearn_transformers.classifier_helpers import BinaryClassifierWithNoise\n",
    "import helpers.classifier_report as classifier_report"
   ]
  },
  {
   "cell_type": "markdown",
   "metadata": {},
   "source": [
    "### Download data:"
   ]
  },
  {
   "cell_type": "markdown",
   "metadata": {},
   "source": [
    "The availability of pre-trial detention data on the individual level is extremely limited, however, in order to create a model for individual use, training on individual-level data is necessary. Fortunately, the Connecticut Department of Corrections currently maintains an updated-daily and anonymized dataset that is sufficient for modeling according to the intent stated above, the [\"Accused Pre-Trial Inmates in Correctional Facilities\" dataset](https://data.ct.gov/Public-Safety/Accused-Pre-Trial-Inmates-in-Correctional-Faciliti/b674-jy6w)."
   ]
  },
  {
   "cell_type": "code",
   "execution_count": 2,
   "metadata": {},
   "outputs": [
    {
     "name": "stdout",
     "output_type": "stream",
     "text": [
      "(4572123, 10)\n"
     ]
    },
    {
     "data": {
      "text/html": [
       "<div>\n",
       "<table border=\"1\" class=\"dataframe\">\n",
       "  <thead>\n",
       "    <tr style=\"text-align: right;\">\n",
       "      <th></th>\n",
       "      <th>DOWNLOAD DATE</th>\n",
       "      <th>IDENTIFIER</th>\n",
       "      <th>LATEST ADMISSION DATE</th>\n",
       "      <th>RACE</th>\n",
       "      <th>GENDER</th>\n",
       "      <th>AGE</th>\n",
       "      <th>BOND AMOUNT</th>\n",
       "      <th>OFFENSE</th>\n",
       "      <th>FACILITY</th>\n",
       "      <th>DETAINER</th>\n",
       "    </tr>\n",
       "  </thead>\n",
       "  <tbody>\n",
       "    <tr>\n",
       "      <th>1191475</th>\n",
       "      <td>08/14/2017</td>\n",
       "      <td>ZZSERLCR</td>\n",
       "      <td>06/27/2017</td>\n",
       "      <td>WHITE</td>\n",
       "      <td>M</td>\n",
       "      <td>27</td>\n",
       "      <td>25000</td>\n",
       "      <td>LARCENY, FOURTH DEGREE                AM</td>\n",
       "      <td>NEW HAVEN CC</td>\n",
       "      <td>NONE</td>\n",
       "    </tr>\n",
       "    <tr>\n",
       "      <th>883189</th>\n",
       "      <td>05/10/2017</td>\n",
       "      <td>ZZSEJEBH</td>\n",
       "      <td>02/08/2017</td>\n",
       "      <td>WHITE</td>\n",
       "      <td>M</td>\n",
       "      <td>23</td>\n",
       "      <td>130100</td>\n",
       "      <td>CRIM VIOL OF PROTECTIVE ORDER         DF</td>\n",
       "      <td>HARTFORD CC</td>\n",
       "      <td>NONE</td>\n",
       "    </tr>\n",
       "    <tr>\n",
       "      <th>4381366</th>\n",
       "      <td>05/01/2020</td>\n",
       "      <td>ZZSHRZCZ</td>\n",
       "      <td>08/28/2019</td>\n",
       "      <td>HISPANIC</td>\n",
       "      <td>M</td>\n",
       "      <td>39</td>\n",
       "      <td>1500000</td>\n",
       "      <td>MANSLAUGHTER 2ND WITH MV (INTOX)      CF</td>\n",
       "      <td>WALKER RC</td>\n",
       "      <td>NONE</td>\n",
       "    </tr>\n",
       "    <tr>\n",
       "      <th>638559</th>\n",
       "      <td>02/19/2017</td>\n",
       "      <td>ZZHLLSLW</td>\n",
       "      <td>01/18/2017</td>\n",
       "      <td>WHITE</td>\n",
       "      <td>M</td>\n",
       "      <td>55</td>\n",
       "      <td>50000</td>\n",
       "      <td>FAILURE TO APPEAR, SECOND DEGREE      AM</td>\n",
       "      <td>BRIDGEPORT CC</td>\n",
       "      <td>NONE</td>\n",
       "    </tr>\n",
       "    <tr>\n",
       "      <th>1538470</th>\n",
       "      <td>12/08/2017</td>\n",
       "      <td>ZZSZHJLZ</td>\n",
       "      <td>09/11/2017</td>\n",
       "      <td>WHITE</td>\n",
       "      <td>M</td>\n",
       "      <td>57</td>\n",
       "      <td>75000</td>\n",
       "      <td>VIOLATION OF PROBATION OR COND DISCHG</td>\n",
       "      <td>BRIDGEPORT CC</td>\n",
       "      <td>NONE</td>\n",
       "    </tr>\n",
       "  </tbody>\n",
       "</table>\n",
       "</div>"
      ],
      "text/plain": [
       "        DOWNLOAD DATE IDENTIFIER LATEST ADMISSION DATE      RACE GENDER  AGE  \\\n",
       "1191475    08/14/2017   ZZSERLCR            06/27/2017     WHITE      M   27   \n",
       "883189     05/10/2017   ZZSEJEBH            02/08/2017     WHITE      M   23   \n",
       "4381366    05/01/2020   ZZSHRZCZ            08/28/2019  HISPANIC      M   39   \n",
       "638559     02/19/2017   ZZHLLSLW            01/18/2017     WHITE      M   55   \n",
       "1538470    12/08/2017   ZZSZHJLZ            09/11/2017     WHITE      M   57   \n",
       "\n",
       "         BOND AMOUNT                                   OFFENSE       FACILITY  \\\n",
       "1191475        25000  LARCENY, FOURTH DEGREE                AM   NEW HAVEN CC   \n",
       "883189        130100  CRIM VIOL OF PROTECTIVE ORDER         DF    HARTFORD CC   \n",
       "4381366      1500000  MANSLAUGHTER 2ND WITH MV (INTOX)      CF      WALKER RC   \n",
       "638559         50000  FAILURE TO APPEAR, SECOND DEGREE      AM  BRIDGEPORT CC   \n",
       "1538470        75000     VIOLATION OF PROBATION OR COND DISCHG  BRIDGEPORT CC   \n",
       "\n",
       "        DETAINER                                          \n",
       "1191475                                             NONE  \n",
       "883189                                              NONE  \n",
       "4381366                                             NONE  \n",
       "638559                                              NONE  \n",
       "1538470                                             NONE  "
      ]
     },
     "execution_count": 2,
     "metadata": {},
     "output_type": "execute_result"
    }
   ],
   "source": [
    "bail_data_filename = 'data/bail_data.csv'\n",
    "bail_data_url = 'https://data.ct.gov/api/views/b674-jy6w/rows.csv?accessType=DOWNLOAD'\n",
    "\n",
    "response = requests.get(bail_data_url)\n",
    "with open(bail_data_filename, 'wb') as out_file:\n",
    "    out_file.write(response.content)\n",
    "\n",
    "_df = pd.read_csv(bail_data_filename)\n",
    "print(_df.shape)\n",
    "_df.sample(5)"
   ]
  },
  {
   "cell_type": "markdown",
   "metadata": {},
   "source": [
    "### Preprocess:"
   ]
  },
  {
   "cell_type": "code",
   "execution_count": 3,
   "metadata": {},
   "outputs": [],
   "source": [
    "df = _df.copy()\n",
    "df = df.rename(columns={column: column.strip().lower().replace(' ', '_') for column in df.columns})"
   ]
  },
  {
   "cell_type": "markdown",
   "metadata": {},
   "source": [
    "In order to transform the raw data into a state prepared for modeling, a fair amount of preprocessing must occur. There are three predominant transformations: `extract_classes()`,  `determine_age_group()`, and `determine_bond_amount()`, as well as the cleanup and standarization of some columns.\n",
    "\n",
    "The first transformation, `extract_classes()`, extracts and decodes the last two characters in the values within the `OFFENSE` column, these characters represent the 'offense class' and the 'crime class' respectively. By extracting these two values, we obtain a higher level categorical variable that the specific offense. This enables a more generalizable feature for our model instead of the specific value for the 'offense'. It also reduces dimensionality, making the values easier for a model to determine a pattern within the features."
   ]
  },
  {
   "cell_type": "code",
   "execution_count": 4,
   "metadata": {
    "scrolled": false
   },
   "outputs": [
    {
     "data": {
      "text/plain": [
       "(4572123, 12)"
      ]
     },
     "execution_count": 4,
     "metadata": {},
     "output_type": "execute_result"
    }
   ],
   "source": [
    "class_pattern = re.compile('\\s([A-Z]?)([A-Z])$')\n",
    "df[['offense_class', 'crime_class']] = df['offense'].str.extract(class_pattern, expand=False)\n",
    "df = df.fillna({'offense_class': 'unknown', 'crime_class': 'unknown'})\n",
    "df.shape"
   ]
  },
  {
   "cell_type": "code",
   "execution_count": 5,
   "metadata": {},
   "outputs": [
    {
     "name": "stdout",
     "output_type": "stream",
     "text": [
      "(4572123, 12)\n"
     ]
    },
    {
     "data": {
      "text/html": [
       "<div>\n",
       "<table border=\"1\" class=\"dataframe\">\n",
       "  <thead>\n",
       "    <tr style=\"text-align: right;\">\n",
       "      <th></th>\n",
       "      <th>download_date</th>\n",
       "      <th>identifier</th>\n",
       "      <th>latest_admission_date</th>\n",
       "      <th>race</th>\n",
       "      <th>gender</th>\n",
       "      <th>age</th>\n",
       "      <th>bond_amount</th>\n",
       "      <th>offense</th>\n",
       "      <th>facility</th>\n",
       "      <th>detainer</th>\n",
       "      <th>offense_class</th>\n",
       "      <th>crime_class</th>\n",
       "    </tr>\n",
       "  </thead>\n",
       "  <tbody>\n",
       "    <tr>\n",
       "      <th>2756172</th>\n",
       "      <td>12/04/2018</td>\n",
       "      <td>ZZSZEWSL</td>\n",
       "      <td>11/05/2018</td>\n",
       "      <td>black</td>\n",
       "      <td>male</td>\n",
       "      <td>26</td>\n",
       "      <td>40000</td>\n",
       "      <td>INJURY OR RISK OF INJURY TO MINOR      F</td>\n",
       "      <td>OSBORN CI</td>\n",
       "      <td>unknown</td>\n",
       "      <td>unknown</td>\n",
       "      <td>felony</td>\n",
       "    </tr>\n",
       "    <tr>\n",
       "      <th>3027276</th>\n",
       "      <td>02/20/2019</td>\n",
       "      <td>ZZSEZECE</td>\n",
       "      <td>12/03/2018</td>\n",
       "      <td>hispanic</td>\n",
       "      <td>male</td>\n",
       "      <td>25</td>\n",
       "      <td>230000</td>\n",
       "      <td>CRIMINAL POSSESSION OF A PISTOL       DF</td>\n",
       "      <td>BRIDGEPORT CC</td>\n",
       "      <td>unknown</td>\n",
       "      <td>d</td>\n",
       "      <td>felony</td>\n",
       "    </tr>\n",
       "    <tr>\n",
       "      <th>198863</th>\n",
       "      <td>09/14/2016</td>\n",
       "      <td>ZZSELLRJ</td>\n",
       "      <td>08/29/2016</td>\n",
       "      <td>hispanic</td>\n",
       "      <td>male</td>\n",
       "      <td>34</td>\n",
       "      <td>250000</td>\n",
       "      <td>CRIM VIOL OF PROTECTIVE ORDER         DF</td>\n",
       "      <td>HARTFORD CC</td>\n",
       "      <td>unknown</td>\n",
       "      <td>d</td>\n",
       "      <td>felony</td>\n",
       "    </tr>\n",
       "    <tr>\n",
       "      <th>1604725</th>\n",
       "      <td>12/28/2017</td>\n",
       "      <td>ZZRJLWRW</td>\n",
       "      <td>02/21/2017</td>\n",
       "      <td>black</td>\n",
       "      <td>male</td>\n",
       "      <td>36</td>\n",
       "      <td>175000</td>\n",
       "      <td>POSSESSION OF NARCOTICS</td>\n",
       "      <td>NEW HAVEN CC</td>\n",
       "      <td>unknown</td>\n",
       "      <td>unknown</td>\n",
       "      <td>unknown</td>\n",
       "    </tr>\n",
       "    <tr>\n",
       "      <th>1819843</th>\n",
       "      <td>03/04/2018</td>\n",
       "      <td>ZZRWLSHW</td>\n",
       "      <td>11/01/2017</td>\n",
       "      <td>hispanic</td>\n",
       "      <td>male</td>\n",
       "      <td>38</td>\n",
       "      <td>100050</td>\n",
       "      <td>EVADING RESPONSIBILITY                 M</td>\n",
       "      <td>HARTFORD CC</td>\n",
       "      <td>unknown</td>\n",
       "      <td>unknown</td>\n",
       "      <td>misdemeanor</td>\n",
       "    </tr>\n",
       "  </tbody>\n",
       "</table>\n",
       "</div>"
      ],
      "text/plain": [
       "        download_date identifier latest_admission_date      race gender  age  \\\n",
       "2756172    12/04/2018   ZZSZEWSL            11/05/2018     black   male   26   \n",
       "3027276    02/20/2019   ZZSEZECE            12/03/2018  hispanic   male   25   \n",
       "198863     09/14/2016   ZZSELLRJ            08/29/2016  hispanic   male   34   \n",
       "1604725    12/28/2017   ZZRJLWRW            02/21/2017     black   male   36   \n",
       "1819843    03/04/2018   ZZRWLSHW            11/01/2017  hispanic   male   38   \n",
       "\n",
       "         bond_amount                                   offense       facility  \\\n",
       "2756172        40000  INJURY OR RISK OF INJURY TO MINOR      F      OSBORN CI   \n",
       "3027276       230000  CRIMINAL POSSESSION OF A PISTOL       DF  BRIDGEPORT CC   \n",
       "198863        250000  CRIM VIOL OF PROTECTIVE ORDER         DF    HARTFORD CC   \n",
       "1604725       175000                   POSSESSION OF NARCOTICS   NEW HAVEN CC   \n",
       "1819843       100050  EVADING RESPONSIBILITY                 M    HARTFORD CC   \n",
       "\n",
       "        detainer offense_class  crime_class  \n",
       "2756172  unknown       unknown       felony  \n",
       "3027276  unknown             d       felony  \n",
       "198863   unknown             d       felony  \n",
       "1604725  unknown       unknown      unknown  \n",
       "1819843  unknown       unknown  misdemeanor  "
      ]
     },
     "execution_count": 5,
     "metadata": {},
     "output_type": "execute_result"
    }
   ],
   "source": [
    "field_replacements = {\n",
    "    'race': {\n",
    "        'amer ind': 'native american',\n",
    "    },\n",
    "    'gender': {\n",
    "        'm': 'male',\n",
    "        'f': 'female',\n",
    "    },\n",
    "    'detainer': {\n",
    "        'state of ct': 'state',\n",
    "        'consec sent': 'consecutive sentence',\n",
    "        'governor wrnt': 'governor warrant',\n",
    "        'other state': 'state',\n",
    "        'none': 'unknown',\n",
    "        '': 'unknown',\n",
    "    },\n",
    "    'crime_class': {\n",
    "        'F': 'felony',\n",
    "        'M': 'misdemeanor',\n",
    "        'C': 'unknown',\n",
    "        'I': 'unknown',\n",
    "    },\n",
    "    'offense_class': {\n",
    "        'A': 'a', \n",
    "        'B': 'b',  \n",
    "        'C': 'c',\n",
    "        'D': 'd',\n",
    "        'U': 'unknown',\n",
    "        '': 'unknown',\n",
    "    }\n",
    "}\n",
    "\n",
    "df['crime_class'] = df['crime_class'].replace(field_replacements['crime_class'])\n",
    "df['offense_class'] = df['offense_class'].replace(field_replacements['offense_class'])\n",
    "df['race'] = df['race'].str.lower().replace(field_replacements['race'])\n",
    "df['gender'] = df['gender'].str.lower().replace(field_replacements['gender'])\n",
    "df['detainer'] = df['detainer'].str.lower().replace(field_replacements['detainer'])\n",
    "print(df.shape)\n",
    "df.sample(5)"
   ]
  },
  {
   "cell_type": "markdown",
   "metadata": {},
   "source": [
    "Similarly, the next transformation, `determine_age_group()`, changes the ordinal value of the `age` column into a categorical variable, again to reduce dimensionality."
   ]
  },
  {
   "cell_type": "code",
   "execution_count": 6,
   "metadata": {},
   "outputs": [
    {
     "data": {
      "text/html": [
       "<div>\n",
       "<table border=\"1\" class=\"dataframe\">\n",
       "  <thead>\n",
       "    <tr style=\"text-align: right;\">\n",
       "      <th></th>\n",
       "      <th>download_date</th>\n",
       "      <th>identifier</th>\n",
       "      <th>latest_admission_date</th>\n",
       "      <th>race</th>\n",
       "      <th>gender</th>\n",
       "      <th>age</th>\n",
       "      <th>bond_amount</th>\n",
       "      <th>offense</th>\n",
       "      <th>facility</th>\n",
       "      <th>detainer</th>\n",
       "      <th>offense_class</th>\n",
       "      <th>crime_class</th>\n",
       "      <th>age_group</th>\n",
       "    </tr>\n",
       "  </thead>\n",
       "  <tbody>\n",
       "    <tr>\n",
       "      <th>4154165</th>\n",
       "      <td>02/12/2020</td>\n",
       "      <td>ZZSRZCHJ</td>\n",
       "      <td>05/23/2017</td>\n",
       "      <td>hispanic</td>\n",
       "      <td>male</td>\n",
       "      <td>33</td>\n",
       "      <td>250000</td>\n",
       "      <td>SEXUAL ASSAULT, FIRST DEGREE           F</td>\n",
       "      <td>CORRIGAN CI</td>\n",
       "      <td>unknown</td>\n",
       "      <td>unknown</td>\n",
       "      <td>felony</td>\n",
       "      <td>25–34</td>\n",
       "    </tr>\n",
       "    <tr>\n",
       "      <th>3705315</th>\n",
       "      <td>09/19/2019</td>\n",
       "      <td>ZZSHEJBW</td>\n",
       "      <td>08/21/2019</td>\n",
       "      <td>hispanic</td>\n",
       "      <td>male</td>\n",
       "      <td>18</td>\n",
       "      <td>35050</td>\n",
       "      <td>BURGLARY, SECOND DEGREE               CF</td>\n",
       "      <td>MANSON YI</td>\n",
       "      <td>unknown</td>\n",
       "      <td>c</td>\n",
       "      <td>felony</td>\n",
       "      <td>18–24</td>\n",
       "    </tr>\n",
       "    <tr>\n",
       "      <th>3746095</th>\n",
       "      <td>10/01/2019</td>\n",
       "      <td>ZZRWCJRC</td>\n",
       "      <td>01/16/2019</td>\n",
       "      <td>black</td>\n",
       "      <td>male</td>\n",
       "      <td>41</td>\n",
       "      <td>750000</td>\n",
       "      <td>MURDER                                AF</td>\n",
       "      <td>WALKER RC</td>\n",
       "      <td>unknown</td>\n",
       "      <td>a</td>\n",
       "      <td>felony</td>\n",
       "      <td>35–44</td>\n",
       "    </tr>\n",
       "    <tr>\n",
       "      <th>17326</th>\n",
       "      <td>07/24/2016</td>\n",
       "      <td>ZZELBBJZ</td>\n",
       "      <td>05/09/2016</td>\n",
       "      <td>black</td>\n",
       "      <td>male</td>\n",
       "      <td>53</td>\n",
       "      <td>500000</td>\n",
       "      <td>ASSAULT, SECOND DEGREE                DF</td>\n",
       "      <td>NORTHERN CI</td>\n",
       "      <td>unknown</td>\n",
       "      <td>d</td>\n",
       "      <td>felony</td>\n",
       "      <td>45–54</td>\n",
       "    </tr>\n",
       "    <tr>\n",
       "      <th>117765</th>\n",
       "      <td>08/06/2016</td>\n",
       "      <td>ZZHSBLBE</td>\n",
       "      <td>05/23/2011</td>\n",
       "      <td>black</td>\n",
       "      <td>male</td>\n",
       "      <td>25</td>\n",
       "      <td>1527000</td>\n",
       "      <td>HOME INVASION                         AF</td>\n",
       "      <td>BRIDGEPORT CC</td>\n",
       "      <td>special parole</td>\n",
       "      <td>a</td>\n",
       "      <td>felony</td>\n",
       "      <td>25–34</td>\n",
       "    </tr>\n",
       "  </tbody>\n",
       "</table>\n",
       "</div>"
      ],
      "text/plain": [
       "        download_date identifier latest_admission_date      race gender  age  \\\n",
       "4154165    02/12/2020   ZZSRZCHJ            05/23/2017  hispanic   male   33   \n",
       "3705315    09/19/2019   ZZSHEJBW            08/21/2019  hispanic   male   18   \n",
       "3746095    10/01/2019   ZZRWCJRC            01/16/2019     black   male   41   \n",
       "17326      07/24/2016   ZZELBBJZ            05/09/2016     black   male   53   \n",
       "117765     08/06/2016   ZZHSBLBE            05/23/2011     black   male   25   \n",
       "\n",
       "         bond_amount                                   offense       facility  \\\n",
       "4154165       250000  SEXUAL ASSAULT, FIRST DEGREE           F    CORRIGAN CI   \n",
       "3705315        35050  BURGLARY, SECOND DEGREE               CF      MANSON YI   \n",
       "3746095       750000  MURDER                                AF      WALKER RC   \n",
       "17326         500000  ASSAULT, SECOND DEGREE                DF    NORTHERN CI   \n",
       "117765       1527000  HOME INVASION                         AF  BRIDGEPORT CC   \n",
       "\n",
       "               detainer offense_class crime_class age_group  \n",
       "4154165         unknown       unknown      felony     25–34  \n",
       "3705315         unknown             c      felony     18–24  \n",
       "3746095         unknown             a      felony     35–44  \n",
       "17326           unknown             d      felony     45–54  \n",
       "117765   special parole             a      felony     25–34  "
      ]
     },
     "execution_count": 6,
     "metadata": {},
     "output_type": "execute_result"
    }
   ],
   "source": [
    "def determine_age_group(age):\n",
    "    if age < 17:\n",
    "        return '<17'\n",
    "    elif 17 < age <= 24:\n",
    "        return '18–24'\n",
    "    elif 24 < age <= 34:\n",
    "        return '25–34'\n",
    "    elif 34 < age <= 44:\n",
    "        return '35–44'\n",
    "    elif 44 < age <= 54:\n",
    "        return '45–54'\n",
    "    elif 54 < age < 64:\n",
    "        return '55–64'\n",
    "    else:\n",
    "        return '65+'\n",
    "\n",
    "df['age_group'] = df.apply(lambda row: determine_age_group(row['age']), axis=1)\n",
    "df.sample(5)"
   ]
  },
  {
   "cell_type": "markdown",
   "metadata": {},
   "source": [
    "The last transformation is the most important because it enables this model to be a 'fair' and 'common sense' algorithm. Do to the history of structural racism inherent in the criminal justice system, the features present in the training data are considered to be highly biased against the victims of this oppression, and any fair model needs to account for this. Operating with the understanding that data is always biased, that un-biased data is a logically impossible and a naive ideal, the task here isn't to remove the bias, but shift its impact from the people whose lives have be negatively impacted by bail and onto the bail system itself. The setting of bail amount is an occasion for structural racism to occur. This can easily be addressed by transforming the value of the bail amount. The transformation, `determine_bond_amount()`, does this by turning the `bail amount`  from continuous variable (any dollar amount) into a binary categorical variable (one of two dollar amounts: `0.00` or `1.00`). The categories were chosen as representative of the original spirit of the [8th amendment](https://en.wikipedia.org/wiki/Eighth_Amendment_to_the_United_States_Constitution), where the two classes inherently prevent the model from inadvertanly producing an 'excessive' bail amount recommendation.\n",
    "\n",
    "This value will be used as the dependent variable (label) for classification. "
   ]
  },
  {
   "cell_type": "code",
   "execution_count": 7,
   "metadata": {},
   "outputs": [
    {
     "data": {
      "text/html": [
       "<div>\n",
       "<table border=\"1\" class=\"dataframe\">\n",
       "  <thead>\n",
       "    <tr style=\"text-align: right;\">\n",
       "      <th></th>\n",
       "      <th>download_date</th>\n",
       "      <th>identifier</th>\n",
       "      <th>latest_admission_date</th>\n",
       "      <th>race</th>\n",
       "      <th>gender</th>\n",
       "      <th>age</th>\n",
       "      <th>bond_amount</th>\n",
       "      <th>offense</th>\n",
       "      <th>facility</th>\n",
       "      <th>detainer</th>\n",
       "      <th>offense_class</th>\n",
       "      <th>crime_class</th>\n",
       "      <th>age_group</th>\n",
       "    </tr>\n",
       "  </thead>\n",
       "  <tbody>\n",
       "    <tr>\n",
       "      <th>530829</th>\n",
       "      <td>01/17/2017</td>\n",
       "      <td>ZZHRLEHE</td>\n",
       "      <td>05/02/2016</td>\n",
       "      <td>black</td>\n",
       "      <td>male</td>\n",
       "      <td>31</td>\n",
       "      <td>0.00</td>\n",
       "      <td>VIOLATION OF PROBATION OR COND DISCHG</td>\n",
       "      <td>HARTFORD CC</td>\n",
       "      <td>unknown</td>\n",
       "      <td>unknown</td>\n",
       "      <td>unknown</td>\n",
       "      <td>25–34</td>\n",
       "    </tr>\n",
       "    <tr>\n",
       "      <th>3845531</th>\n",
       "      <td>11/01/2019</td>\n",
       "      <td>ZZRJLSJZ</td>\n",
       "      <td>10/10/2019</td>\n",
       "      <td>black</td>\n",
       "      <td>male</td>\n",
       "      <td>36</td>\n",
       "      <td>0.00</td>\n",
       "      <td>VIOLATION OF PROBATION OR COND DISCHG</td>\n",
       "      <td>GARNER</td>\n",
       "      <td>unknown</td>\n",
       "      <td>unknown</td>\n",
       "      <td>unknown</td>\n",
       "      <td>35–44</td>\n",
       "    </tr>\n",
       "    <tr>\n",
       "      <th>156393</th>\n",
       "      <td>08/17/2016</td>\n",
       "      <td>ZZSELEHB</td>\n",
       "      <td>07/29/2016</td>\n",
       "      <td>hispanic</td>\n",
       "      <td>female</td>\n",
       "      <td>33</td>\n",
       "      <td>0.00</td>\n",
       "      <td>PROSTITUTION                          AM</td>\n",
       "      <td>YORK CI</td>\n",
       "      <td>unknown</td>\n",
       "      <td>a</td>\n",
       "      <td>misdemeanor</td>\n",
       "      <td>25–34</td>\n",
       "    </tr>\n",
       "    <tr>\n",
       "      <th>2930492</th>\n",
       "      <td>01/23/2019</td>\n",
       "      <td>ZZRBZWSZ</td>\n",
       "      <td>08/23/2018</td>\n",
       "      <td>hispanic</td>\n",
       "      <td>male</td>\n",
       "      <td>54</td>\n",
       "      <td>0.00</td>\n",
       "      <td>SEXUAL ASSAULT, FOURTH DEGREE         AM</td>\n",
       "      <td>CORRIGAN CI</td>\n",
       "      <td>unknown</td>\n",
       "      <td>a</td>\n",
       "      <td>misdemeanor</td>\n",
       "      <td>45–54</td>\n",
       "    </tr>\n",
       "    <tr>\n",
       "      <th>437078</th>\n",
       "      <td>12/20/2016</td>\n",
       "      <td>ZZHBHHRB</td>\n",
       "      <td>11/17/2015</td>\n",
       "      <td>black</td>\n",
       "      <td>male</td>\n",
       "      <td>21</td>\n",
       "      <td>0.00</td>\n",
       "      <td>ASSAULT, SECOND DEGREE                DF</td>\n",
       "      <td>HARTFORD CC</td>\n",
       "      <td>unknown</td>\n",
       "      <td>d</td>\n",
       "      <td>felony</td>\n",
       "      <td>18–24</td>\n",
       "    </tr>\n",
       "  </tbody>\n",
       "</table>\n",
       "</div>"
      ],
      "text/plain": [
       "        download_date identifier latest_admission_date      race  gender  age  \\\n",
       "530829     01/17/2017   ZZHRLEHE            05/02/2016     black    male   31   \n",
       "3845531    11/01/2019   ZZRJLSJZ            10/10/2019     black    male   36   \n",
       "156393     08/17/2016   ZZSELEHB            07/29/2016  hispanic  female   33   \n",
       "2930492    01/23/2019   ZZRBZWSZ            08/23/2018  hispanic    male   54   \n",
       "437078     12/20/2016   ZZHBHHRB            11/17/2015     black    male   21   \n",
       "\n",
       "        bond_amount                                   offense     facility  \\\n",
       "530829         0.00     VIOLATION OF PROBATION OR COND DISCHG  HARTFORD CC   \n",
       "3845531        0.00     VIOLATION OF PROBATION OR COND DISCHG       GARNER   \n",
       "156393         0.00  PROSTITUTION                          AM      YORK CI   \n",
       "2930492        0.00  SEXUAL ASSAULT, FOURTH DEGREE         AM  CORRIGAN CI   \n",
       "437078         0.00  ASSAULT, SECOND DEGREE                DF  HARTFORD CC   \n",
       "\n",
       "        detainer offense_class  crime_class age_group  \n",
       "530829   unknown       unknown      unknown     25–34  \n",
       "3845531  unknown       unknown      unknown     35–44  \n",
       "156393   unknown             a  misdemeanor     25–34  \n",
       "2930492  unknown             a  misdemeanor     45–54  \n",
       "437078   unknown             d       felony     18–24  "
      ]
     },
     "execution_count": 7,
     "metadata": {},
     "output_type": "execute_result"
    }
   ],
   "source": [
    "def determine_bond_amount(series):\n",
    "    return np.where(series > 2000000, '1.00', '0.00')\n",
    "\n",
    "df['bond_amount'] = determine_bond_amount(df['bond_amount'])\n",
    "df.sample(5)"
   ]
  },
  {
   "cell_type": "markdown",
   "metadata": {},
   "source": [
    "Finally, the cleanup and standardization mapping expands the values of abbreviated input data (`f`→`female`, `consec sent`→`consecutive sentence`) and corrects the exonym `AMER IND` ('american indian'), opting for `native american` instead. \n",
    "\n",
    "One thing to note is that the ethnic category `HISPANIC` remains in the race category because there is not enough information in the data to disambiguate ethnicity from race. It is worth mentioning the decision to retain racial/ethnic information as features in this model at all. There are countless opportunities for mis-categorization of race, from the prespective of the individual imputting the data (we have no clear way of reliably knowing that every instance within the data was reported by the individual the data represents or not) to the unnecessary reduction of diverse and complicated family heritage into brittle and outdated categories. However, the intent of the model is to diminish the impact of these racial features, and the only way demonstrate that these features do not impact the recommendations is to include them as feature in the model."
   ]
  },
  {
   "cell_type": "markdown",
   "metadata": {},
   "source": [
    "### Model:"
   ]
  },
  {
   "cell_type": "code",
   "execution_count": 8,
   "metadata": {
    "scrolled": true
   },
   "outputs": [
    {
     "name": "stdout",
     "output_type": "stream",
     "text": [
      "3657698 914425\n"
     ]
    }
   ],
   "source": [
    "feature_columns = ['crime_class', 'offense_class', 'age_group', 'race', 'gender', 'detainer']\n",
    "target_column = 'bond_amount'\n",
    "\n",
    "x = df.copy()[feature_columns]\n",
    "y = df.copy()[target_column]\n",
    "\n",
    "x_train, x_test, y_train, y_test = train_test_split(x, y, test_size=0.2, random_state=1337)\n",
    "\n",
    "print(len(x_train), len(x_test))"
   ]
  },
  {
   "cell_type": "code",
   "execution_count": 9,
   "metadata": {},
   "outputs": [
    {
     "data": {
      "text/plain": [
       "Pipeline(steps=[('feature_column_encoder', <sklearn_transformers.classifier_helpers.MultiColumnLabelEncoder object at 0x7f95c8022208>), ('classifier', BinaryClassifierWithNoise(classifier=RandomForestClassifier(bootstrap=True, class_weight=None, criterion='gini',\n",
       "            max_depth=None, max_features='aut...mators=10, n_jobs=1, oob_score=False, random_state=1337,\n",
       "            verbose=0, warm_start=False)))])"
      ]
     },
     "execution_count": 9,
     "metadata": {},
     "output_type": "execute_result"
    }
   ],
   "source": [
    "model = Pipeline([\n",
    "    ('feature_column_encoder', MultiColumnLabelEncoder(columns=feature_columns)),\n",
    "    ('classifier', BinaryClassifierWithNoise(\n",
    "        RandomForestClassifier(\n",
    "            n_estimators=10,\n",
    "            n_jobs=1,\n",
    "            random_state=1337,\n",
    "        )\n",
    "    )),\n",
    "])\n",
    "model.fit(x_train, y_train)"
   ]
  },
  {
   "cell_type": "code",
   "execution_count": 10,
   "metadata": {
    "scrolled": false
   },
   "outputs": [
    {
     "name": "stdout",
     "output_type": "stream",
     "text": [
      "Accuracy:  0.987956\n",
      "Recall:    0.999836\n",
      "F-beta:    0.993939\n",
      "Precision: 0.988111\n",
      "\n",
      "----------------------------------------\n",
      "Feature Importances:\n",
      "crime_class=misdemeanor       0.333207\n",
      "crime_class=felony            0.256596\n",
      "crime_class=unknown           0.191440\n",
      "offense_class=c               0.112013\n",
      "offense_class=a               0.086826\n",
      "offense_class=b               0.019918\n"
     ]
    },
    {
     "data": {
      "image/png": "[encoded data removed]",
      "text/plain": [
       "<Figure size 432x432 with 1 Axes>"
      ]
     },
     "metadata": {
      "image/png": {
       "height": 394,
       "width": 393
      }
     },
     "output_type": "display_data"
    },
    {
     "data": {
      "text/plain": [
       "[{'0.00': 0.99943522035904442, '1.00': 0.00056477964095558164},\n",
       " {'0.00': 0.88664721592895601, '1.00': 0.11335278407104399},\n",
       " {'0.00': 0.9995901015570815, '1.00': 0.00040989844291849931},\n",
       " {'0.00': 0.99988266355152688, '1.00': 0.00011733644847311542},\n",
       " {'0.00': 0.99919976145037281, '1.00': 0.00080023854962718577}]"
      ]
     },
     "metadata": {},
     "output_type": "display_data"
    }
   ],
   "source": [
    "classifier_report.performance(model, x_test, y_test, encoder_step_label='feature_column_encoder', cross_validate=False)\n",
    "classifier_report.roc_curve(model, x_test, y_test)\n",
    "display(model.predict_proba(x_test.sample(5)))"
   ]
  },
  {
   "cell_type": "code",
   "execution_count": 11,
   "metadata": {},
   "outputs": [
    {
     "data": {
      "image/png": "[encoded data removed]",
      "text/plain": [
       "<Figure size 432x432 with 2 Axes>"
      ]
     },
     "metadata": {
      "image/png": {
       "height": 366,
       "width": 424
      }
     },
     "output_type": "display_data"
    }
   ],
   "source": [
    "y_pred = model.predict(x_test)\n",
    "class_names = model.named_steps['classifier'].classifier.classes_\n",
    "classifier_report.plot_confusion_matrix(y_test, y_pred, class_names=class_names)"
   ]
  }
 ],
 "metadata": {
  "kernelspec": {
   "display_name": "Python 3",
   "language": "python",
   "name": "python3"
  },
  "language_info": {
   "codemirror_mode": {
    "name": "ipython",
    "version": 3
   },
   "file_extension": ".py",
   "mimetype": "text/x-python",
   "name": "python",
   "nbconvert_exporter": "python",
   "pygments_lexer": "ipython3",
   "version": "3.6.5"
  }
 },
 "nbformat": 4,
 "nbformat_minor": 2
}
