{
 "cells": [
  {
   "cell_type": "markdown",
   "metadata": {},
   "source": [
    "The intent of this algorithm is to model the dynamic between institutional factors that contribute to federal grant awards to prospective students, producing a fair and accurate recommendation for the grant award amount. Machine learning in situations like this can reduce implicit or latent biases that prevent financial access to higher education for all individuals. To prevent algorithmic discrimination, the only dimensions required for modeling for grant awards are the location of the school, the school type, whether the school is in the prospective student’s home state, and the tuition amount. all other factors have the potential to introduce biases into the model and are not relevant for producing a performant model.\n",
    "\n",
    "The availability of data representing grant awards at the individual student level, and the percent of tuition covered by the grant are either non-existent or unknown at the time of designing this algorithm. However, the combination of multiple public datasets can allow us to approximate this student-level data.\n",
    "\n",
    "The features of the model, or independent variables, reflect qualities about the educational institution, and the dependent variable is the percentage amount of tuition that was covered by a federal grant.\n",
    "\n",
    "#### Training data:\n",
    "- [Sources of Grant Aid for Full-Time Undergraduates by Sector, 2011-12 - Pell Grant data](https://trends.collegeboard.org/content/sources-grant-aid-full-time-undergraduates-sector-2011-12)\n",
    "- [Federal Student Aid: Title IV Program Volume Reports - grants per institution](https://studentaid.ed.gov/sa/about/data-center/student/title-iv)\n",
    "- [College Scorecard - tuition data](https://catalog.data.gov/dataset/college-scorecard) (Accessing this data requires an API key for data.gov, which is granted here: [https://api.data.gov/signup/](https://api.data.gov/signup/))"
   ]
  },
  {
   "cell_type": "code",
   "execution_count": 2,
   "metadata": {},
   "outputs": [],
   "source": [
    "%config InlineBackend.figure_format = 'retina'\n",
    "\n",
    "import glob\n",
    "import json\n",
    "import os\n",
    "import numpy as np\n",
    "import pandas as pd\n",
    "import requests\n",
    "\n",
    "from sklearn.model_selection import train_test_split\n",
    "from sklearn.pipeline import Pipeline\n",
    "from sklearn.preprocessing import OneHotEncoder\n",
    "from sklearn.ensemble import RandomForestRegressor\n",
    "from IPython.display import display\n",
    "\n",
    "from sklearn_transformers.preprocessing import FeatureSelector\n",
    "from sklearn_transformers.preprocessing import MultiColumnLabelEncoder\n",
    "from sklearn_transformers.regression import RegressorWithNoise\n",
    "from helpers import regression_report"
   ]
  },
  {
   "cell_type": "markdown",
   "metadata": {},
   "source": [
    "### Download data:\n",
    "\n",
    "To model the scenario outlined above, the data required is an anonymized individual-level federal grant award dataset (where each row represents one person’s school, the school’s tuition, and the percent of the tuition the grant amount covered). Unfortunately, the government does readily provide such a dataset, however, these features can be assembled with other existing datasets: the Pell Grant data for full-time undergraduate students which provides the maximum amount awarded per student, the Federal Student Aid's Title IV program which outlines the total amount of grants per educational institution, and lastly the educational institution's tuition provided by College Scorecard.\n",
    "\n",
    "The first dataset (Sources of Grant Aid for Full-Time Undergraduates by Sector, 2011-12), will provide the maximum Pell Grant amounts awarded per year. The maximum amount award will later be used to determine the percent awarded."
   ]
  },
  {
   "cell_type": "code",
   "execution_count": 8,
   "metadata": {},
   "outputs": [],
   "source": [
    "pell_grat_filename = 'data/pell_grant.xlsx'\n",
    "pell_grant_url = 'http://research.collegeboard.org/sites/default/files/sa-2018-figure-21a.xlsx'\n",
    "\n",
    "response = requests.get(pell_grant_url)\n",
    "with open(pell_grat_filename, 'wb') as out_file:\n",
    "    out_file.write(response.content)"
   ]
  },
  {
   "cell_type": "code",
   "execution_count": 17,
   "metadata": {
    "scrolled": true
   },
   "outputs": [
    {
     "name": "stdout",
     "output_type": "stream",
     "text": [
      "(41, 4)\n"
     ]
    }
   ],
   "source": [
    "def parse_pell_grant_data_start_year(x):\n",
    "    s = int(x[:2])\n",
    "    if s >= 77:\n",
    "        return str(1900 + s)\n",
    "    else:\n",
    "        return str(2000 + s)\n",
    "\n",
    "pell_grant_data = pd.read_excel(\n",
    "    pell_grat_filename,\n",
    "    header=1,\n",
    "    usecols=[i for i in range(3)],\n",
    ")\n",
    "pell_grant_data = pell_grant_data[:41]\n",
    "pell_grant_data['start_year'] = pell_grant_data['Academic Year'].apply(parse_pell_grant_data_start_year)\n",
    "pell_grant_data.columns = [col.strip().lower().replace(' ', '_') for col in pell_grant_data.columns]\n",
    "print(pell_grant_data.shape)"
   ]
  },
  {
   "cell_type": "markdown",
   "metadata": {},
   "source": [
    "The second dataset is the Federal Student Aid Title IV Volume reports that detail grand disbursements per institution per year (from https://studentaid.ed.gov/sa/about/data-center/student/title-iv). The Q4 data has the complete data for the given year."
   ]
  },
  {
   "cell_type": "code",
   "execution_count": 33,
   "metadata": {},
   "outputs": [
    {
     "name": "stdout",
     "output_type": "stream",
     "text": [
      "https://studentaid.gov/sites/default/files/Q40607AY.xls\n",
      "https://studentaid.gov/sites/default/files/Q40708AY.xls\n",
      "https://studentaid.gov/sites/default/files/Q40809AY.xls\n",
      "https://studentaid.gov/sites/default/files/Q40910AY.xls\n",
      "https://studentaid.gov/sites/default/files/Q41011AY.xls\n",
      "https://studentaid.gov/sites/default/files/Q41112AY.xls\n",
      "https://studentaid.gov/sites/default/files/Q41213AY.xls\n",
      "https://studentaid.gov/sites/default/files/fsawg/datacenter/library/Q41314AY.xls\n",
      "https://studentaid.gov/sites/default/files/fsawg/datacenter/library/Q41415AY.xls\n",
      "https://studentaid.gov/sites/default/files/fsawg/datacenter/library/Q41516AY.xls\n",
      "https://studentaid.gov/sites/default/files/fsawg/datacenter/library/Q41617AY.xls\n",
      "https://studentaid.gov/sites/default/files/fsawg/datacenter/library/Q41718AY.xls\n"
     ]
    }
   ],
   "source": [
    "base_url = 'https://studentaid.gov/sites/default/files/'\n",
    "student_loans_data_urls = []\n",
    "\n",
    "for year in range(6, 18):\n",
    "    this_year = f'{year}'.zfill(2)\n",
    "    next_year = f'{year + 1}'.zfill(2)\n",
    "    if 13 <= year:\n",
    "        url = f'{base_url}fsawg/datacenter/library/'\n",
    "    else:\n",
    "        url = base_url        \n",
    "    student_loans_data_urls.append(f'{url}Q4{this_year}{next_year}AY.xls')  \n",
    "\n",
    "for url in student_loans_data_urls:\n",
    "    print(url)\n",
    "    filename = os.path.basename(url)\n",
    "    response = requests.get(url)\n",
    "    with open(filename, 'wb') as out_file:\n",
    "        out_file.write(response.content)"
   ]
  },
  {
   "cell_type": "markdown",
   "metadata": {},
   "source": [
    "The grants data is in semi-regularly formatted excel spreadsheets, the code below extracts the relevant data from the sheets, and formats the data for use in a dataframe."
   ]
  },
  {
   "cell_type": "code",
   "execution_count": 61,
   "metadata": {},
   "outputs": [],
   "source": [
    "grant_fileinfo = [\n",
    "    {'filepath': 'data/Q40607AY.xls', 'sheet_name': 'Q4 0607 YTD', 'header_col': 3},\n",
    "    {'filepath': 'data/Q40708AY.xls', 'sheet_name': 'Q4 0708 YTD', 'header_col': 3},\n",
    "    {'filepath': 'data/Q40809AY.xls', 'sheet_name': 'Q4 0809 YTD', 'header_col': 3},\n",
    "    {'filepath': 'data/Q40910AY.xls', 'sheet_name': 'Q4 0910 YTD', 'header_col': 4},\n",
    "    {'filepath': 'data/Q41011AY.xls', 'sheet_name': 'Q4 1011 YTD', 'header_col': 4},\n",
    "    {'filepath': 'data/Q41112AY.xls', 'sheet_name': 'Q4 1112 YTD', 'header_col': 4},\n",
    "    {'filepath': 'data/Q41213AY.xls', 'sheet_name': 'Q4 1213 YTD', 'header_col': 4},\n",
    "    {'filepath': 'data/Q41314AY.xls', 'sheet_name': 'Award Year Summary', 'header_col': 4},\n",
    "    {'filepath': 'data/Q41415AY.xls', 'sheet_name': 'Award Year Summary', 'header_col': 4},\n",
    "    {'filepath': 'data/Q41516AY.xls', 'sheet_name': 'Award Year Summary', 'header_col': 4},\n",
    "    {'filepath': 'data/Q41617AY.xls', 'sheet_name': 'Award Year Summary', 'header_col': 4},\n",
    "    {'filepath': 'data/Q41718AY.xls', 'sheet_name': 'Award Year Summary', 'header_col': 4},\n",
    "]"
   ]
  },
  {
   "cell_type": "code",
   "execution_count": 84,
   "metadata": {
    "scrolled": false
   },
   "outputs": [
    {
     "name": "stdout",
     "output_type": "stream",
     "text": [
      "data/Q40607AY.xls\n",
      "data/Q40708AY.xls\n",
      "data/Q40809AY.xls\n",
      "data/Q40910AY.xls\n",
      "data/Q41011AY.xls\n",
      "data/Q41112AY.xls\n",
      "data/Q41213AY.xls\n",
      "data/Q41314AY.xls\n",
      "data/Q41415AY.xls\n",
      "data/Q41516AY.xls\n",
      "data/Q41617AY.xls\n",
      "data/Q41718AY.xls\n",
      "(65518, 10)\n"
     ]
    },
    {
     "data": {
      "text/html": [
       "<div>\n",
       "<table border=\"1\" class=\"dataframe\">\n",
       "  <thead>\n",
       "    <tr style=\"text-align: right;\">\n",
       "      <th></th>\n",
       "      <th>academic_year</th>\n",
       "      <th>ope id</th>\n",
       "      <th>pell grant ytd disbursements</th>\n",
       "      <th>pell grant ytd recipients</th>\n",
       "      <th>school</th>\n",
       "      <th>school type</th>\n",
       "      <th>spreadsheet</th>\n",
       "      <th>state</th>\n",
       "      <th>ytd recipients</th>\n",
       "      <th>zip code</th>\n",
       "    </tr>\n",
       "  </thead>\n",
       "  <tbody>\n",
       "    <tr>\n",
       "      <th>3115</th>\n",
       "      <td>2017</td>\n",
       "      <td>02138300</td>\n",
       "      <td>309749</td>\n",
       "      <td>68</td>\n",
       "      <td>PALO ALTO UNIVERSITY</td>\n",
       "      <td>Private-Nonprofit</td>\n",
       "      <td>Q41718AY</td>\n",
       "      <td>CA</td>\n",
       "      <td>NaN</td>\n",
       "      <td>943041337.0</td>\n",
       "    </tr>\n",
       "    <tr>\n",
       "      <th>1674</th>\n",
       "      <td>2015</td>\n",
       "      <td>00364500</td>\n",
       "      <td>3.28155e+06</td>\n",
       "      <td>819</td>\n",
       "      <td>TEXAS WESLEYAN UNIVERSITY</td>\n",
       "      <td>Private-Nonprofit</td>\n",
       "      <td>Q41516AY</td>\n",
       "      <td>TX</td>\n",
       "      <td>NaN</td>\n",
       "      <td>761051536.0</td>\n",
       "    </tr>\n",
       "    <tr>\n",
       "      <th>1040</th>\n",
       "      <td>2016</td>\n",
       "      <td>00265300</td>\n",
       "      <td>4.96149e+06</td>\n",
       "      <td>1261</td>\n",
       "      <td>NEW MEXICO HIGHLANDS UNIVERSITY</td>\n",
       "      <td>Public</td>\n",
       "      <td>Q41617AY</td>\n",
       "      <td>NM</td>\n",
       "      <td>NaN</td>\n",
       "      <td>877014436.0</td>\n",
       "    </tr>\n",
       "    <tr>\n",
       "      <th>5275</th>\n",
       "      <td>2008</td>\n",
       "      <td>3965500.0</td>\n",
       "      <td>162784</td>\n",
       "      <td>53</td>\n",
       "      <td>HAIR EXPRESSIONS ACADEMY</td>\n",
       "      <td>PROPRIETARY</td>\n",
       "      <td>Q40809AY</td>\n",
       "      <td>MD</td>\n",
       "      <td>NaN</td>\n",
       "      <td>208521729.0</td>\n",
       "    </tr>\n",
       "    <tr>\n",
       "      <th>2345</th>\n",
       "      <td>2009</td>\n",
       "      <td>00208700</td>\n",
       "      <td>317686</td>\n",
       "      <td>74</td>\n",
       "      <td>NER ISRAEL RABBINICAL COLLEGE                 ...</td>\n",
       "      <td>Private-Nonprofit</td>\n",
       "      <td>Q40910AY</td>\n",
       "      <td>MD</td>\n",
       "      <td>NaN</td>\n",
       "      <td>212081198.0</td>\n",
       "    </tr>\n",
       "  </tbody>\n",
       "</table>\n",
       "</div>"
      ],
      "text/plain": [
       "     academic_year     ope id pell grant ytd disbursements  \\\n",
       "3115          2017   02138300                       309749   \n",
       "1674          2015   00364500                  3.28155e+06   \n",
       "1040          2016   00265300                  4.96149e+06   \n",
       "5275          2008  3965500.0                       162784   \n",
       "2345          2009   00208700                       317686   \n",
       "\n",
       "     pell grant ytd recipients  \\\n",
       "3115                        68   \n",
       "1674                       819   \n",
       "1040                      1261   \n",
       "5275                        53   \n",
       "2345                        74   \n",
       "\n",
       "                                                 school        school type  \\\n",
       "3115                               PALO ALTO UNIVERSITY  Private-Nonprofit   \n",
       "1674                          TEXAS WESLEYAN UNIVERSITY  Private-Nonprofit   \n",
       "1040                    NEW MEXICO HIGHLANDS UNIVERSITY             Public   \n",
       "5275                           HAIR EXPRESSIONS ACADEMY        PROPRIETARY   \n",
       "2345  NER ISRAEL RABBINICAL COLLEGE                 ...  Private-Nonprofit   \n",
       "\n",
       "     spreadsheet state ytd recipients      zip code  \n",
       "3115    Q41718AY    CA             NaN  943041337.0  \n",
       "1674    Q41516AY    TX             NaN  761051536.0  \n",
       "1040    Q41617AY    NM             NaN  877014436.0  \n",
       "5275    Q40809AY    MD             NaN  208521729.0  \n",
       "2345    Q40910AY    MD             NaN  212081198.0  "
      ]
     },
     "execution_count": 84,
     "metadata": {},
     "output_type": "execute_result"
    }
   ],
   "source": [
    "grant_dfs = []\n",
    "\n",
    "for info in grant_fileinfo:\n",
    "    filepath = info['filepath']\n",
    "    sheet_name = info['sheet_name']\n",
    "    header_col = info['header_col']\n",
    "    print(filepath)\n",
    "    temp_df = pd.read_excel(filepath, sheetname=sheet_name, header=[header_col, header_col+1])\n",
    "    col_index = [True if col.startswith('Unnamed') or col == 'FEDERAL PELL GRANT PROGRAM' else False\n",
    "                 for col in temp_df.columns.get_level_values(0)\n",
    "                ]\n",
    "    temp_df = temp_df.iloc[:, col_index]\n",
    "    temp_df.columns = temp_df.columns.droplevel()\n",
    "    label = filepath.split('/')[-1][:-4]\n",
    "    temp_df['spreadsheet'] = label\n",
    "    temp_df['academic_year'] = f'20{label[2:4]}'\n",
    "    temp_df.columns = map(str.lower, temp_df.columns)\n",
    "    temp_df.index.name = 'ope id'\n",
    "    temp_df = temp_df.rename(columns={\n",
    "        'sum of recipients': 'pell grant ytd recipients',\n",
    "        'ytd recipients': 'pell grant ytd recipients',\n",
    "        'sum of disbursements':  'pell grant ytd disbursements',\n",
    "        'ytd disbursements': 'pell grant ytd disbursements',\n",
    "    })\n",
    "    temp_df = temp_df.reset_index()\n",
    "    temp_df['ope id'] = temp_df['ope id'].apply(lambda x: str(x).zfill(8))\n",
    "    grant_dfs.append(temp_df)\n",
    "\n",
    "\n",
    "grants_df = pd.concat(grant_dfs)\n",
    "print(grants_df.shape)\n",
    "grants_df.sample(5)"
   ]
  },
  {
   "cell_type": "markdown",
   "metadata": {},
   "source": [
    "Lastly, we need to know the tutition cost for each educational institution listed in the `grant_amounts` dataset. This data is provided by [College Scorecard on data.gov](https://catalog.data.gov/dataset/college-scorecard). However, it requires an API key ([sign up here](https://api.data.gov/signup/)) to programmatically download the data. Also, the API is rate limited, so this step can take a while. This cell is designed to run multiple times until the full data is collected."
   ]
  },
  {
   "cell_type": "code",
   "execution_count": 44,
   "metadata": {},
   "outputs": [],
   "source": [
    "url = 'https://api.data.gov/ed/collegescorecard/v1/schools'\n",
    "API_KEY = #'<INSERT YOUR DATA.GOV API KEY HERE>'\n",
    "params = {\n",
    "    'api_key': API_KEY,\n",
    "    '_per_page': 100\n",
    "}\n",
    "ids = set(grants_df['ope id'].values) - {fp.split('/')[-1][:8] for fp in glob.glob('data/*.json')}\n",
    "\n",
    "for ope_id in ids:\n",
    "    params = {'ope8_id': ope_id}\n",
    "    local_filename = f'{ope_id}_tuition_data.json'\n",
    "    response = requests.get(url, params=params)\n",
    "    \n",
    "    if response.status_code == 200:\n",
    "        with open(local_filename, 'wb') as out_file:\n",
    "            out_file.write(response.content)\n",
    "    if response.status_code != 200:\n",
    "        print(f'error: {response.url}, {response.status_code}, {json.dumps(response.text)}')\n",
    "    if int(response.headers['X-RateLimit-Remaining']) == 0:\n",
    "        print('stopping, over rate limit')\n",
    "        break\n",
    "\n",
    "    print('X-RateLimit-Remaining:', int(data.response.headers['X-RateLimit-Remaining']))"
   ]
  },
  {
   "cell_type": "code",
   "execution_count": 86,
   "metadata": {},
   "outputs": [
    {
     "name": "stdout",
     "output_type": "stream",
     "text": [
      "(91819, 4)\n",
      "4993\n"
     ]
    },
    {
     "data": {
      "text/html": [
       "<div>\n",
       "<table border=\"1\" class=\"dataframe\">\n",
       "  <thead>\n",
       "    <tr style=\"text-align: right;\">\n",
       "      <th></th>\n",
       "      <th>ope8_id</th>\n",
       "      <th>year</th>\n",
       "      <th>out_of_state_tuition</th>\n",
       "      <th>in_state_tuition</th>\n",
       "    </tr>\n",
       "  </thead>\n",
       "  <tbody>\n",
       "    <tr>\n",
       "      <th>84423</th>\n",
       "      <td>03513400</td>\n",
       "      <td>2006</td>\n",
       "      <td>2350.0</td>\n",
       "      <td>2350.0</td>\n",
       "    </tr>\n",
       "    <tr>\n",
       "      <th>12439</th>\n",
       "      <td>00193800</td>\n",
       "      <td>2015</td>\n",
       "      <td>3624.0</td>\n",
       "      <td>3168.0</td>\n",
       "    </tr>\n",
       "    <tr>\n",
       "      <th>46070</th>\n",
       "      <td>00697700</td>\n",
       "      <td>1996</td>\n",
       "      <td>NaN</td>\n",
       "      <td>NaN</td>\n",
       "    </tr>\n",
       "    <tr>\n",
       "      <th>13936</th>\n",
       "      <td>00204100</td>\n",
       "      <td>2005</td>\n",
       "      <td>10830.0</td>\n",
       "      <td>4740.0</td>\n",
       "    </tr>\n",
       "    <tr>\n",
       "      <th>76213</th>\n",
       "      <td>02587500</td>\n",
       "      <td>2015</td>\n",
       "      <td>5820.0</td>\n",
       "      <td>5820.0</td>\n",
       "    </tr>\n",
       "  </tbody>\n",
       "</table>\n",
       "</div>"
      ],
      "text/plain": [
       "        ope8_id  year  out_of_state_tuition  in_state_tuition\n",
       "84423  03513400  2006                2350.0            2350.0\n",
       "12439  00193800  2015                3624.0            3168.0\n",
       "46070  00697700  1996                   NaN               NaN\n",
       "13936  00204100  2005               10830.0            4740.0\n",
       "76213  02587500  2015                5820.0            5820.0"
      ]
     },
     "execution_count": 86,
     "metadata": {},
     "output_type": "execute_result"
    }
   ],
   "source": [
    "filepaths = glob.glob('data/*_tuition_data.json')\n",
    "school_data = []\n",
    "for fp in filepaths:\n",
    "    with open(fp, 'r') as infile:\n",
    "        d = json.load(infile)\n",
    "    if len(d['results']) == 0:\n",
    "        continue\n",
    "    for k, v in d['results'][0].items():\n",
    "        try:\n",
    "            row = {\n",
    "                'ope8_id': fp.split('/')[-1][:8],\n",
    "                'year': int(k),\n",
    "                'out_of_state_tuition': v['cost']['tuition']['out_of_state'],\n",
    "                'in_state_tuition': v['cost']['tuition']['in_state'],\n",
    "            }\n",
    "            school_data.append(row)\n",
    "        except:\n",
    "            pass\n",
    "\n",
    "tuition_df = pd.DataFrame(school_data, columns=['ope8_id', 'year', 'out_of_state_tuition', 'in_state_tuition'])\n",
    "tuition_df = tuition_df.sort_values(by=['ope8_id', 'year']).reset_index(drop=True)\n",
    "print(tuition_df.shape)\n",
    "print(len(tuition_df.ope8_id.unique()))\n",
    "tuition_df.sample(5)"
   ]
  },
  {
   "cell_type": "markdown",
   "metadata": {},
   "source": [
    "This step combines the three datasets into a single dataframe."
   ]
  },
  {
   "cell_type": "code",
   "execution_count": 53,
   "metadata": {},
   "outputs": [
    {
     "name": "stdout",
     "output_type": "stream",
     "text": [
      "(65518, 15)\n"
     ]
    },
    {
     "data": {
      "text/html": [
       "<div>\n",
       "<style scoped>\n",
       "    .dataframe tbody tr th:only-of-type {\n",
       "        vertical-align: middle;\n",
       "    }\n",
       "\n",
       "    .dataframe tbody tr th {\n",
       "        vertical-align: top;\n",
       "    }\n",
       "\n",
       "    .dataframe thead th {\n",
       "        text-align: right;\n",
       "    }\n",
       "</style>\n",
       "<table border=\"1\" class=\"dataframe\">\n",
       "  <thead>\n",
       "    <tr style=\"text-align: right;\">\n",
       "      <th></th>\n",
       "      <th>ope id</th>\n",
       "      <th>school</th>\n",
       "      <th>state</th>\n",
       "      <th>zip code</th>\n",
       "      <th>school type</th>\n",
       "      <th>pell grant ytd recipients</th>\n",
       "      <th>pell grant ytd disbursements</th>\n",
       "      <th>spreadsheet</th>\n",
       "      <th>academic_year</th>\n",
       "      <th>start_year</th>\n",
       "      <th>maximum_pell_grant</th>\n",
       "      <th>ope8_id</th>\n",
       "      <th>year</th>\n",
       "      <th>out_of_state_tuition</th>\n",
       "      <th>in_state_tuition</th>\n",
       "    </tr>\n",
       "  </thead>\n",
       "  <tbody>\n",
       "    <tr>\n",
       "      <th>33842</th>\n",
       "      <td>00116300</td>\n",
       "      <td>CHAFFEY COMMUNITY COLLEGE</td>\n",
       "      <td>CA</td>\n",
       "      <td>917379400</td>\n",
       "      <td>PUBLIC</td>\n",
       "      <td>8178</td>\n",
       "      <td>24161737</td>\n",
       "      <td>Q41213AY</td>\n",
       "      <td>2012</td>\n",
       "      <td>2012</td>\n",
       "      <td>5930</td>\n",
       "      <td>00116300</td>\n",
       "      <td>2012.0</td>\n",
       "      <td>6169.0</td>\n",
       "      <td>1153.0</td>\n",
       "    </tr>\n",
       "    <tr>\n",
       "      <th>48108</th>\n",
       "      <td>02606300</td>\n",
       "      <td>PAUL MITCHELL THE SCHOOL WICHITA</td>\n",
       "      <td>KS</td>\n",
       "      <td>672261321</td>\n",
       "      <td>Proprietary</td>\n",
       "      <td>136</td>\n",
       "      <td>515309</td>\n",
       "      <td>Q41415AY</td>\n",
       "      <td>2014</td>\n",
       "      <td>2014</td>\n",
       "      <td>5890</td>\n",
       "      <td>02606300</td>\n",
       "      <td>2014.0</td>\n",
       "      <td>NaN</td>\n",
       "      <td>NaN</td>\n",
       "    </tr>\n",
       "    <tr>\n",
       "      <th>28830</th>\n",
       "      <td>00280600</td>\n",
       "      <td>ROCHESTER INSTITUTE OF TECHNOLOGY</td>\n",
       "      <td>NY</td>\n",
       "      <td>146235608</td>\n",
       "      <td>Private-Nonprofit</td>\n",
       "      <td>4378</td>\n",
       "      <td>17252884</td>\n",
       "      <td>Q41112AY</td>\n",
       "      <td>2011</td>\n",
       "      <td>2011</td>\n",
       "      <td>6010</td>\n",
       "      <td>00280600</td>\n",
       "      <td>2011.0</td>\n",
       "      <td>32037.0</td>\n",
       "      <td>32037.0</td>\n",
       "    </tr>\n",
       "    <tr>\n",
       "      <th>5909</th>\n",
       "      <td>00161400</td>\n",
       "      <td>KAUAI COMMUNITY COLLEGE</td>\n",
       "      <td>HI</td>\n",
       "      <td>967669591</td>\n",
       "      <td>PUBLIC</td>\n",
       "      <td>173</td>\n",
       "      <td>397713</td>\n",
       "      <td>Q40708AY</td>\n",
       "      <td>2007</td>\n",
       "      <td>2007</td>\n",
       "      <td>5060</td>\n",
       "      <td>00161400</td>\n",
       "      <td>2007.0</td>\n",
       "      <td>6184.0</td>\n",
       "      <td>1552.0</td>\n",
       "    </tr>\n",
       "    <tr>\n",
       "      <th>28862</th>\n",
       "      <td>00285300</td>\n",
       "      <td>SUNY MARITIME COLLEGE</td>\n",
       "      <td>NY</td>\n",
       "      <td>104654198</td>\n",
       "      <td>Public</td>\n",
       "      <td>449</td>\n",
       "      <td>1799213</td>\n",
       "      <td>Q41112AY</td>\n",
       "      <td>2011</td>\n",
       "      <td>2011</td>\n",
       "      <td>6010</td>\n",
       "      <td>00285300</td>\n",
       "      <td>2011.0</td>\n",
       "      <td>15507.0</td>\n",
       "      <td>6457.0</td>\n",
       "    </tr>\n",
       "  </tbody>\n",
       "</table>\n",
       "</div>"
      ],
      "text/plain": [
       "         ope id                                                                  school state   zip code        school type pell grant ytd recipients pell grant ytd disbursements spreadsheet  academic_year start_year  maximum_pell_grant   ope8_id    year  out_of_state_tuition  in_state_tuition\n",
       "33842  00116300  CHAFFEY COMMUNITY COLLEGE                                                 CA  917379400             PUBLIC                      8178                     24161737    Q41213AY           2012       2012                5930  00116300  2012.0                6169.0            1153.0\n",
       "48108  02606300                                        PAUL MITCHELL THE SCHOOL WICHITA    KS  672261321        Proprietary                       136                       515309    Q41415AY           2014       2014                5890  02606300  2014.0                   NaN               NaN\n",
       "28830  00280600                                       ROCHESTER INSTITUTE OF TECHNOLOGY    NY  146235608  Private-Nonprofit                      4378                     17252884    Q41112AY           2011       2011                6010  00280600  2011.0               32037.0           32037.0\n",
       "5909   00161400                                                 KAUAI COMMUNITY COLLEGE    HI  967669591             PUBLIC                       173                       397713    Q40708AY           2007       2007                5060  00161400  2007.0                6184.0            1552.0\n",
       "28862  00285300                                                   SUNY MARITIME COLLEGE    NY  104654198             Public                       449                      1799213    Q41112AY           2011       2011                6010  00285300  2011.0               15507.0            6457.0"
      ]
     },
     "execution_count": 53,
     "metadata": {},
     "output_type": "execute_result"
    }
   ],
   "source": [
    "grants_df = grants_df.merge(\n",
    "    pell_grant_data[['start_year', 'maximum_pell_grant']],\n",
    "    left_on=['academic_year'],\n",
    "    right_on=['start_year'],\n",
    ")\n",
    "grants_df['academic_year'] = grants_df['academic_year'].astype('int64')\n",
    "\n",
    "_df = grants_df.merge(\n",
    "    tuition_df, \n",
    "    how='left',\n",
    "    left_on=['ope id', 'academic_year'],\n",
    "    right_on=['ope8_id', 'year'],\n",
    ")\n",
    "\n",
    "print(_df.shape)\n",
    "_df.sample(5)"
   ]
  },
  {
   "cell_type": "markdown",
   "metadata": {},
   "source": [
    "### Preprocess:"
   ]
  },
  {
   "cell_type": "markdown",
   "metadata": {},
   "source": [
    "In order to transform the raw data into a state where we can properly model the data, some preprocessing must occur. There are three predominant transformations: `calculate_average_amount()`, `convert_region()`, and determining the `grant_coverage_percent` based on in-state or out-of-state students, as well as the cleanup and standarization of some columns."
   ]
  },
  {
   "cell_type": "code",
   "execution_count": 92,
   "metadata": {
    "scrolled": false
   },
   "outputs": [],
   "source": [
    "_df = _df.rename(columns={'school type': 'school_type'})\n",
    "_df = _df[[\n",
    "    'school_type',\n",
    "    'pell grant ytd disbursements',\n",
    "    'pell grant ytd recipients',\n",
    "    'state',\n",
    "    'maximum_pell_grant',\n",
    "    'out_of_state_tuition',\n",
    "    'in_state_tuition',\n",
    "]]\n",
    "_df = _df[~_df['pell grant ytd recipients'].isin(['-'])]\n",
    "\n",
    "def convert_to_numeric(x):\n",
    "    try:\n",
    "        return pd.to_numeric(x)\n",
    "    except:\n",
    "        return np.nan\n",
    "\n",
    "_df['pell grant ytd disbursements'] = _df['pell grant ytd disbursements'].apply(convert_to_numeric)\n",
    "_df['pell grant ytd recipients'] = _df['pell grant ytd recipients'].apply(convert_to_numeric)\n",
    "_df['school_type'] = _df['school_type'].str.lower()"
   ]
  },
  {
   "cell_type": "markdown",
   "metadata": {},
   "source": [
    "The first transformation, `calculate_average_amount()`, calculates the average amount of grant disbursements. To do so, it divides the total grant amount per institution per year by the total number of grant recipients per institution per year."
   ]
  },
  {
   "cell_type": "code",
   "execution_count": 93,
   "metadata": {},
   "outputs": [],
   "source": [
    "def calculate_average_amount(row):\n",
    "    if row['pell grant ytd recipients'] > 0:\n",
    "        return row['pell grant ytd disbursements'] / row['pell grant ytd recipients']\n",
    "    else:\n",
    "        return 0.0\n",
    "\n",
    "_df['avg_amount'] = _df.apply(calculate_average_amount, axis=1)"
   ]
  },
  {
   "cell_type": "markdown",
   "metadata": {},
   "source": [
    "The second transformation, `convert_region()`, determines the educational institution's geographical region by the state it's located in. This reduces feature complexity and allows for broader geographic patterns to be a identified within the model."
   ]
  },
  {
   "cell_type": "code",
   "execution_count": 94,
   "metadata": {},
   "outputs": [],
   "source": [
    "state_regions = {\n",
    "    'northeast': ['CT', 'ME', 'MA', 'NH', 'RI', 'VT', 'NY', 'NJ' , 'PA'],\n",
    "    'midwest': ['IL', 'IN', 'MI', 'OH', 'WI', 'IA', 'KS', 'MN', 'MO', 'NE', 'ND', 'SD'],\n",
    "    'south': ['DE', 'FL', 'GA', 'MD', 'NC', 'SC', 'VA', 'DC', 'WV', 'AL', 'KY', 'MS', 'TN', 'AR', 'LA', 'OK', 'TX', 'PR', 'AS', 'VI'],\n",
    "    'west': ['AZ', 'CO', 'ID', 'MT', 'NV', 'NM', 'UT', 'WY', 'AK', 'CA', 'HI', 'OR', 'WA', 'GU', 'FM', 'MH', 'MP', 'PW'],\n",
    "}\n",
    "\n",
    "def convert_region(state_abbr):\n",
    "    for region, states in state_regions.items():\n",
    "        if state_abbr in states:\n",
    "            return region\n",
    "    return\n",
    "\n",
    "\n",
    "_df['region'] = _df['state'].apply(convert_region)\n",
    "_df = _df.dropna(subset=['region'])"
   ]
  },
  {
   "cell_type": "markdown",
   "metadata": {},
   "source": [
    "The following preprocessing step splits the grant awards by in-state and out-of-state schools."
   ]
  },
  {
   "cell_type": "code",
   "execution_count": 95,
   "metadata": {},
   "outputs": [],
   "source": [
    "df_1 = _df.copy()[_df['maximum_pell_grant'] >= _df['out_of_state_tuition']]\n",
    "df_1['in_state'] = False\n",
    "df_1['grant_coverage_percent'] = df_1['avg_amount'] / df_1['out_of_state_tuition']\n",
    "\n",
    "df_2 = _df.copy()[_df['maximum_pell_grant'] >= _df['in_state_tuition']]\n",
    "df_2['in_state'] = True\n",
    "df_2['grant_coverage_percent'] = df_2['avg_amount'] / df_2['in_state_tuition']\n",
    "\n",
    "df = pd.concat([\n",
    "    df_1[['school_type', 'region', 'in_state', 'grant_coverage_percent']],\n",
    "    df_2[['school_type', 'region', 'in_state', 'grant_coverage_percent']]\n",
    "])"
   ]
  },
  {
   "cell_type": "markdown",
   "metadata": {},
   "source": [
    "Lastly, the final transformation required in the preprocessing step is determining the `grant_coverage_percent`."
   ]
  },
  {
   "cell_type": "code",
   "execution_count": 96,
   "metadata": {},
   "outputs": [
    {
     "name": "stdout",
     "output_type": "stream",
     "text": [
      "(4473, 4)\n"
     ]
    },
    {
     "data": {
      "text/html": [
       "<div>\n",
       "<table border=\"1\" class=\"dataframe\">\n",
       "  <thead>\n",
       "    <tr style=\"text-align: right;\">\n",
       "      <th></th>\n",
       "      <th>school_type</th>\n",
       "      <th>region</th>\n",
       "      <th>in_state</th>\n",
       "      <th>grant_coverage_percent</th>\n",
       "    </tr>\n",
       "  </thead>\n",
       "  <tbody>\n",
       "    <tr>\n",
       "      <th>38802</th>\n",
       "      <td>public</td>\n",
       "      <td>west</td>\n",
       "      <td>True</td>\n",
       "      <td>2.912159</td>\n",
       "    </tr>\n",
       "    <tr>\n",
       "      <th>18076</th>\n",
       "      <td>public</td>\n",
       "      <td>midwest</td>\n",
       "      <td>True</td>\n",
       "      <td>1.127620</td>\n",
       "    </tr>\n",
       "    <tr>\n",
       "      <th>19010</th>\n",
       "      <td>public</td>\n",
       "      <td>midwest</td>\n",
       "      <td>True</td>\n",
       "      <td>1.322399</td>\n",
       "    </tr>\n",
       "    <tr>\n",
       "      <th>55312</th>\n",
       "      <td>public</td>\n",
       "      <td>south</td>\n",
       "      <td>True</td>\n",
       "      <td>1.018625</td>\n",
       "    </tr>\n",
       "    <tr>\n",
       "      <th>33485</th>\n",
       "      <td>public</td>\n",
       "      <td>west</td>\n",
       "      <td>True</td>\n",
       "      <td>2.912652</td>\n",
       "    </tr>\n",
       "  </tbody>\n",
       "</table>\n",
       "</div>"
      ],
      "text/plain": [
       "      school_type   region in_state  grant_coverage_percent\n",
       "38802      public     west     True                2.912159\n",
       "18076      public  midwest     True                1.127620\n",
       "19010      public  midwest     True                1.322399\n",
       "55312      public    south     True                1.018625\n",
       "33485      public     west     True                2.912652"
      ]
     },
     "execution_count": 96,
     "metadata": {},
     "output_type": "execute_result"
    }
   ],
   "source": [
    "df = df[df['grant_coverage_percent'] >= 1]\n",
    "df = df.replace([np.inf, -np.inf], np.nan).dropna(subset=['grant_coverage_percent'])\n",
    "\n",
    "print(df.shape)\n",
    "df.sample(5)"
   ]
  },
  {
   "cell_type": "markdown",
   "metadata": {},
   "source": [
    "## Model:"
   ]
  },
  {
   "cell_type": "code",
   "execution_count": 97,
   "metadata": {},
   "outputs": [
    {
     "name": "stdout",
     "output_type": "stream",
     "text": [
      "3578 895\n"
     ]
    }
   ],
   "source": [
    "feature_columns = ['school_type', 'region', 'in_state']\n",
    "target_column = 'grant_coverage_percent'\n",
    "\n",
    "x = df.copy()[feature_columns]\n",
    "y = df.copy()[target_column]\n",
    "\n",
    "x_train, x_test, y_train, y_test = train_test_split(x, y, test_size=0.2, random_state=1337)\n",
    "\n",
    "print(len(x_train), len(x_test))"
   ]
  },
  {
   "cell_type": "code",
   "execution_count": 98,
   "metadata": {},
   "outputs": [
    {
     "data": {
      "text/plain": [
       "Pipeline(steps=[('feature_column_encoder', <sklearn_transformers.preprocessing.MultiColumnLabelEncoder object at 0x7fa43c4a5ba8>), ('estimator', RegressorWithNoise(regressor=RandomForestRegressor(bootstrap=True, criterion='mse', max_depth=30,\n",
       "           max_features='sqrt', max_leaf_nodes=None,\n",
       "           mi...ators=1000, n_jobs=1, oob_score=False, random_state=1337,\n",
       "           verbose=0, warm_start=False)))])"
      ]
     },
     "execution_count": 98,
     "metadata": {},
     "output_type": "execute_result"
    }
   ],
   "source": [
    "model = Pipeline([\n",
    "    ('feature_column_encoder', MultiColumnLabelEncoder(columns=feature_columns)),\n",
    "    ('estimator', RegressorWithNoise(\n",
    "        RandomForestRegressor(\n",
    "            n_estimators=1000,\n",
    "            max_features='sqrt',\n",
    "            max_depth=30,\n",
    "            random_state=1337,\n",
    "        )\n",
    "    ))\n",
    "])\n",
    "model.fit(x_train, y_train)"
   ]
  },
  {
   "cell_type": "code",
   "execution_count": 100,
   "metadata": {},
   "outputs": [
    {
     "name": "stdout",
     "output_type": "stream",
     "text": [
      "Accuracy:                     68.46007\n",
      "MSE                           0.584932\n",
      "RMSE                          0.764809\n",
      "RMSLE                         0.228085\n",
      "MAE                           0.502928\n",
      "R2                            0.238108\n",
      "Adj R2                        0.235607\n",
      "Median                        1.496856\n",
      "Avg absolute error (degrees)  0.502928\n",
      "\n",
      "----------------------------------------\n",
      "Feature Importances:\n",
      "school_type=proprietary       0.897887\n",
      "school_type=public            0.058283\n",
      "school_type=private-nonprofit 0.043830\n"
     ]
    },
    {
     "data": {
      "image/png": "[encoded data removed]",
      "text/plain": [
       "<Figure size 432x432 with 1 Axes>"
      ]
     },
     "metadata": {
      "image/png": {
       "height": 380,
       "width": 370
      }
     },
     "output_type": "display_data"
    },
    {
     "data": {
      "text/plain": [
       "array([ 1.68771123,  1.46041356,  1.68771123,  1.28954312,  1.68771123])"
      ]
     },
     "metadata": {},
     "output_type": "display_data"
    }
   ],
   "source": [
    "regression_report.evaluate(model, x_test, y_test, encoder_step_label='feature_column_encoder')\n",
    "display(model.predict(x_test.sample(5)))"
   ]
  },
  {
   "cell_type": "code",
   "execution_count": null,
   "metadata": {},
   "outputs": [],
   "source": []
  }
 ],
 "metadata": {
  "kernelspec": {
   "display_name": "Python 3",
   "language": "python",
   "name": "python3"
  },
  "language_info": {
   "codemirror_mode": {
    "name": "ipython",
    "version": 3
   },
   "file_extension": ".py",
   "mimetype": "text/x-python",
   "name": "python",
   "nbconvert_exporter": "python",
   "pygments_lexer": "ipython3",
   "version": "3.6.5"
  }
 },
 "nbformat": 4,
 "nbformat_minor": 2
}
