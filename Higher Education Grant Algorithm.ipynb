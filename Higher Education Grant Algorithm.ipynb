{
 "cells": [
  {
   "cell_type": "markdown",
   "metadata": {},
   "source": [
    "The intent of this algorithm is to model the dynamic between geographic and institutional factors that contribute to federal grant award amounts in order to produce a fair and accurate recommendation for the grant award amount for the prospective student. The only useful dimensions for determining how much grant award amount are the location of the school, the institution type, and the percentage of the tuition the grant covers for the student, all other factors have the potential to introduce biases into the model and are not relevant for producing a performant model. \n",
    "\n",
    "The features of the model will reflect factors about the educational institution, and the target is the percentage amount of the tuition was covered by the federal grant.\n",
    "\n",
    "#### Training data:\n",
    "- [Sources of Grant Aid for Full-Time Undergraduates by Sector, 2011-12 - Pell Grant data](https://trends.collegeboard.org/content/sources-grant-aid-full-time-undergraduates-sector-2011-12)\n",
    "- [Federal Student Aid: Title IV Program Volume Reports - grants per institution](https://studentaid.ed.gov/sa/about/data-center/student/title-iv)\n",
    "- [College Scorecard - tuition data](https://catalog.data.gov/dataset/college-scorecard) (Accessing this data requires an API key for data.gov, which is granted here: [https://api.data.gov/signup/](https://api.data.gov/signup/))"
   ]
  },
  {
   "cell_type": "code",
   "execution_count": 12,
   "metadata": {},
   "outputs": [],
   "source": [
    "import glob\n",
    "import json\n",
    "import os\n",
    "import numpy as np\n",
    "import pandas as pd\n",
    "import requests\n",
    "\n",
    "from sklearn.model_selection import train_test_split\n",
    "from sklearn.pipeline import Pipeline\n",
    "from sklearn.preprocessing import OneHotEncoder\n",
    "from sklearn.ensemble import RandomForestRegressor\n",
    "from IPython.display import display\n",
    "\n",
    "from sklearn_transformers.preprocessing import FeatureSelector\n",
    "from sklearn_transformers.preprocessing import MultiColumnLabelEncoder\n",
    "from sklearn_transformers.regression import RegressorWithNoise\n",
    "import regression_report"
   ]
  },
  {
   "cell_type": "markdown",
   "metadata": {},
   "source": [
    "### Download data:\n",
    "\n",
    "To model the scenario outlined above, the data required is an anonymized individual-level federal grant award dataset (where each row represents one person’s school, the school’s tuition, and the percent of the tuition the grant amount covered). Unfortunately, the government does readily provide such a dataset, however, these features can be assembled with other existing datasets: the Pell Grant data for full-time undergraduate students which provides the maximum amount awarded per student, the Federal Student Aid's Title IV program which outlines the total amount of grants per educational institution, and lastly the educational institution's tuition provided by College Scorecard.\n",
    "\n",
    "The first dataset (Sources of Grant Aid for Full-Time Undergraduates by Sector, 2011-12), will provide the maximum Pell Grant amounts awarded per year. The maximum amount award will later be used to determine the percent awarded."
   ]
  },
  {
   "cell_type": "code",
   "execution_count": 10,
   "metadata": {
    "scrolled": true
   },
   "outputs": [
    {
     "name": "stdout",
     "output_type": "stream",
     "text": [
      "(41, 4)\n"
     ]
    },
    {
     "data": {
      "text/html": [
       "<div>\n",
       "<style scoped>\n",
       "    .dataframe tbody tr th:only-of-type {\n",
       "        vertical-align: middle;\n",
       "    }\n",
       "\n",
       "    .dataframe tbody tr th {\n",
       "        vertical-align: top;\n",
       "    }\n",
       "\n",
       "    .dataframe thead th {\n",
       "        text-align: right;\n",
       "    }\n",
       "</style>\n",
       "<table border=\"1\" class=\"dataframe\">\n",
       "  <thead>\n",
       "    <tr style=\"text-align: right;\">\n",
       "      <th></th>\n",
       "      <th>academic_year</th>\n",
       "      <th>maximum_pell_grant</th>\n",
       "      <th>average_pell_grant_per_recipient</th>\n",
       "      <th>start_year</th>\n",
       "    </tr>\n",
       "  </thead>\n",
       "  <tbody>\n",
       "    <tr>\n",
       "      <th>24</th>\n",
       "      <td>01-02</td>\n",
       "      <td>5170</td>\n",
       "      <td>3170</td>\n",
       "      <td>2001</td>\n",
       "    </tr>\n",
       "    <tr>\n",
       "      <th>34</th>\n",
       "      <td>11-12</td>\n",
       "      <td>6010</td>\n",
       "      <td>3850</td>\n",
       "      <td>2011</td>\n",
       "    </tr>\n",
       "    <tr>\n",
       "      <th>12</th>\n",
       "      <td>89-90</td>\n",
       "      <td>4530</td>\n",
       "      <td>2830</td>\n",
       "      <td>1989</td>\n",
       "    </tr>\n",
       "    <tr>\n",
       "      <th>15</th>\n",
       "      <td>92-93</td>\n",
       "      <td>4180</td>\n",
       "      <td>2690</td>\n",
       "      <td>1992</td>\n",
       "    </tr>\n",
       "    <tr>\n",
       "      <th>14</th>\n",
       "      <td>91-92</td>\n",
       "      <td>4310</td>\n",
       "      <td>2750</td>\n",
       "      <td>1991</td>\n",
       "    </tr>\n",
       "  </tbody>\n",
       "</table>\n",
       "</div>"
      ],
      "text/plain": [
       "   academic_year  maximum_pell_grant  average_pell_grant_per_recipient start_year\n",
       "24         01-02                5170                              3170       2001\n",
       "34         11-12                6010                              3850       2011\n",
       "12         89-90                4530                              2830       1989\n",
       "15         92-93                4180                              2690       1992\n",
       "14         91-92                4310                              2750       1991"
      ]
     },
     "execution_count": 10,
     "metadata": {},
     "output_type": "execute_result"
    }
   ],
   "source": [
    "pell_grat_filename = 'pell_grant.xlsx'\n",
    "pell_grant_url = 'http://research.collegeboard.org/sites/default/files/sa-2018-figure-21a.xlsx'\n",
    "\n",
    "response = requests.get(pell_grant_url)\n",
    "with open(pell_grat_filename, 'wb') as out_file:\n",
    "    out_file.write(response.content)\n",
    "\n",
    "def parse_pell_grant_data_start_year(x):\n",
    "    s = int(x[:2])\n",
    "    if s >= 77:\n",
    "        return str(1900 + s)\n",
    "    else:\n",
    "        return str(2000 + s)\n",
    "\n",
    "pell_grant_data = pd.read_excel(\n",
    "    pell_grat_filename,\n",
    "    header=1,\n",
    "    usecols=[i for i in range(3)],\n",
    "    nrows=41\n",
    ")\n",
    "pell_grant_data['start_year'] = pell_grant_data['Academic Year'].apply(parse_pell_grant_data_start_year)\n",
    "pell_grant_data.columns = [col.strip().lower().replace(' ', '_') for col in pell_grant_data.columns]\n",
    "print(pell_grant_data.shape)\n",
    "pell_grant_data.sample(5)"
   ]
  },
  {
   "cell_type": "markdown",
   "metadata": {},
   "source": [
    "The second dataset is the Federal Student Aid Title IV Volume reports that detail grand disbursements per institution per year (from https://studentaid.ed.gov/sa/about/data-center/student/title-iv). The Q4 data has the complete data for the given year."
   ]
  },
  {
   "cell_type": "code",
   "execution_count": 33,
   "metadata": {},
   "outputs": [
    {
     "name": "stdout",
     "output_type": "stream",
     "text": [
      "https://studentaid.gov/sites/default/files/Q40607AY.xls\n",
      "https://studentaid.gov/sites/default/files/Q40708AY.xls\n",
      "https://studentaid.gov/sites/default/files/Q40809AY.xls\n",
      "https://studentaid.gov/sites/default/files/Q40910AY.xls\n",
      "https://studentaid.gov/sites/default/files/Q41011AY.xls\n",
      "https://studentaid.gov/sites/default/files/Q41112AY.xls\n",
      "https://studentaid.gov/sites/default/files/Q41213AY.xls\n",
      "https://studentaid.gov/sites/default/files/fsawg/datacenter/library/Q41314AY.xls\n",
      "https://studentaid.gov/sites/default/files/fsawg/datacenter/library/Q41415AY.xls\n",
      "https://studentaid.gov/sites/default/files/fsawg/datacenter/library/Q41516AY.xls\n",
      "https://studentaid.gov/sites/default/files/fsawg/datacenter/library/Q41617AY.xls\n",
      "https://studentaid.gov/sites/default/files/fsawg/datacenter/library/Q41718AY.xls\n"
     ]
    }
   ],
   "source": [
    "base_url = 'https://studentaid.gov/sites/default/files/'\n",
    "student_loans_data_urls = []\n",
    "\n",
    "for year in range(6, 18):\n",
    "    this_year = f'{year}'.zfill(2)\n",
    "    next_year = f'{year + 1}'.zfill(2)\n",
    "    if 13 <= year:\n",
    "        url = f'{base_url}fsawg/datacenter/library/'\n",
    "    else:\n",
    "        url = base_url        \n",
    "    student_loans_data_urls.append(f'{url}Q4{this_year}{next_year}AY.xls')  \n",
    "\n",
    "for url in student_loans_data_urls:\n",
    "    print(url)\n",
    "    filename = os.path.basename(url)\n",
    "    response = requests.get(url)\n",
    "    with open(filename, 'wb') as out_file:\n",
    "        out_file.write(response.content)"
   ]
  },
  {
   "cell_type": "code",
   "execution_count": 43,
   "metadata": {
    "scrolled": false
   },
   "outputs": [
    {
     "name": "stdout",
     "output_type": "stream",
     "text": [
      "Q40607AY.xls\n",
      "Q40708AY.xls\n",
      "Q40809AY.xls\n",
      "Q40910AY.xls\n",
      "Q41011AY.xls\n",
      "Q41112AY.xls\n",
      "Q41213AY.xls\n",
      "Q41314AY.xls\n",
      "Q41415AY.xls\n",
      "Q41516AY.xls\n",
      "Q41617AY.xls\n",
      "Q41718AY.xls\n",
      "(65518, 9)\n"
     ]
    },
    {
     "data": {
      "text/html": [
       "<div>\n",
       "<style scoped>\n",
       "    .dataframe tbody tr th:only-of-type {\n",
       "        vertical-align: middle;\n",
       "    }\n",
       "\n",
       "    .dataframe tbody tr th {\n",
       "        vertical-align: top;\n",
       "    }\n",
       "\n",
       "    .dataframe thead th {\n",
       "        text-align: right;\n",
       "    }\n",
       "</style>\n",
       "<table border=\"1\" class=\"dataframe\">\n",
       "  <thead>\n",
       "    <tr style=\"text-align: right;\">\n",
       "      <th></th>\n",
       "      <th>ope id</th>\n",
       "      <th>school</th>\n",
       "      <th>state</th>\n",
       "      <th>zip code</th>\n",
       "      <th>school type</th>\n",
       "      <th>pell grant ytd recipients</th>\n",
       "      <th>pell grant ytd disbursements</th>\n",
       "      <th>spreadsheet</th>\n",
       "      <th>academic_year</th>\n",
       "    </tr>\n",
       "  </thead>\n",
       "  <tbody>\n",
       "    <tr>\n",
       "      <th>5294</th>\n",
       "      <td>04232400</td>\n",
       "      <td>VANTAGE COLLEGE - SAN ANTONIO</td>\n",
       "      <td>TX</td>\n",
       "      <td>782304823</td>\n",
       "      <td>Proprietary</td>\n",
       "      <td>163</td>\n",
       "      <td>639774</td>\n",
       "      <td>Q41516AY</td>\n",
       "      <td>2015</td>\n",
       "    </tr>\n",
       "    <tr>\n",
       "      <th>2153</th>\n",
       "      <td>00218100</td>\n",
       "      <td>MASSACHUSETTS MARITIME ACADEMY</td>\n",
       "      <td>MA</td>\n",
       "      <td>25323400</td>\n",
       "      <td>Public</td>\n",
       "      <td>211</td>\n",
       "      <td>834973</td>\n",
       "      <td>Q41011AY</td>\n",
       "      <td>2010</td>\n",
       "    </tr>\n",
       "    <tr>\n",
       "      <th>2793</th>\n",
       "      <td>01043400</td>\n",
       "      <td>RENTON TECHNICAL COLLEGE</td>\n",
       "      <td>WA</td>\n",
       "      <td>980564195</td>\n",
       "      <td>Public</td>\n",
       "      <td>1159</td>\n",
       "      <td>3.6932e+06</td>\n",
       "      <td>Q41314AY</td>\n",
       "      <td>2013</td>\n",
       "    </tr>\n",
       "    <tr>\n",
       "      <th>5549</th>\n",
       "      <td>00382300</td>\n",
       "      <td>WEST LIBERTY UNIVERSITY</td>\n",
       "      <td>WV</td>\n",
       "      <td>260740295</td>\n",
       "      <td>Public</td>\n",
       "      <td>1094</td>\n",
       "      <td>4.33732e+06</td>\n",
       "      <td>Q40910AY</td>\n",
       "      <td>2009</td>\n",
       "    </tr>\n",
       "    <tr>\n",
       "      <th>5307</th>\n",
       "      <td>03822400</td>\n",
       "      <td>MAPLE SPRINGS BAPTIST BIBLE COLLEGE &amp; SEMINARY</td>\n",
       "      <td>MD</td>\n",
       "      <td>207435711</td>\n",
       "      <td>PRIVATE-NONPROFIT</td>\n",
       "      <td>6</td>\n",
       "      <td>12819.5</td>\n",
       "      <td>Q40607AY</td>\n",
       "      <td>2006</td>\n",
       "    </tr>\n",
       "  </tbody>\n",
       "</table>\n",
       "</div>"
      ],
      "text/plain": [
       "        ope id                                                                  school state   zip code        school type pell grant ytd recipients pell grant ytd disbursements spreadsheet academic_year\n",
       "5294  04232400                                           VANTAGE COLLEGE - SAN ANTONIO    TX  782304823        Proprietary                       163                       639774    Q41516AY          2015\n",
       "2153  00218100                                          MASSACHUSETTS MARITIME ACADEMY    MA   25323400             Public                       211                       834973    Q41011AY          2010\n",
       "2793  01043400                                                RENTON TECHNICAL COLLEGE    WA  980564195             Public                      1159                   3.6932e+06    Q41314AY          2013\n",
       "5549  00382300  WEST LIBERTY UNIVERSITY                                                   WV  260740295             Public                      1094                  4.33732e+06    Q40910AY          2009\n",
       "5307  03822400                          MAPLE SPRINGS BAPTIST BIBLE COLLEGE & SEMINARY    MD  207435711  PRIVATE-NONPROFIT                         6                      12819.5    Q40607AY          2006"
      ]
     },
     "execution_count": 43,
     "metadata": {},
     "output_type": "execute_result"
    }
   ],
   "source": [
    "grant_dfs = []\n",
    "\n",
    "for fp in sorted(glob.glob('Q4*AY.xls')):\n",
    "    print(fp)\n",
    "    sheetname = [sheetname for sheetname in pd.read_excel(fp, sheet_name=None).keys() if ' YTD' in sheetname or sheetname == 'Award Year Summary'][0]\n",
    "    header_col = [i for i, r in enumerate(pd.read_excel(fp, sheet_name=sheetname).iloc[:10, 0]) if r == 'OPE ID'][0]\n",
    "    temp_df = pd.read_excel(\n",
    "        fp,\n",
    "        sheet_name=sheetname,\n",
    "        header=[header_col, header_col+1],\n",
    "        dtype='object',\n",
    "    )\n",
    "    col_index = [True if col.startswith('Unnamed') or col == 'FEDERAL PELL GRANT PROGRAM' else False for col in temp_df.columns.get_level_values(0)]\n",
    "    temp_df = temp_df.iloc[:, col_index]\n",
    "    temp_df.columns = temp_df.columns.droplevel()\n",
    "    temp_df.columns = [col.strip().lower() for col in temp_df.columns]\n",
    "    temp_df = temp_df.rename(columns={\n",
    "        'sum of recipients': 'pell grant ytd recipients',\n",
    "        'ytd recipients': 'pell grant ytd recipients',\n",
    "        'sum of disbursements':  'pell grant ytd disbursements',\n",
    "        'ytd disbursements': 'pell grant ytd disbursements',\n",
    "    })\n",
    "    label = fp.split('/')[-1][:-4]\n",
    "    temp_df['spreadsheet'] = label\n",
    "    temp_df['academic_year'] = f'20{label[2:4]}'\n",
    "    temp_df['ope id'] = temp_df['ope id'].apply(lambda x: str(x).zfill(8))\n",
    "    grant_dfs.append(temp_df)\n",
    "\n",
    "\n",
    "grants_df = pd.concat(grant_dfs)\n",
    "print(grants_df.shape)\n",
    "grants_df.sample(5)"
   ]
  },
  {
   "cell_type": "markdown",
   "metadata": {},
   "source": [
    "Lastly, information about how much tutition is for each institution is needed. This data is provided by [College Scorecard on data.gov](https://catalog.data.gov/dataset/college-scorecard). However, it requires an API key ([sign up here](https://api.data.gov/signup/)) to programmatically download the data and the API is rate limited, so this step can take a while and is designed to run multiple times until the full data is collected.\n",
    "\n",
    "Need to know the tuition for each of the institutions in the `grant_amounts` dataset, so each individual excel sheet needs to be loaded into a dataframe, so we can access that field"
   ]
  },
  {
   "cell_type": "code",
   "execution_count": 44,
   "metadata": {},
   "outputs": [],
   "source": [
    "url = 'https://api.data.gov/ed/collegescorecard/v1/schools'\n",
    "API_KEY = #'<YOUR DATA.GOV API KEY>'\n",
    "params = {\n",
    "    'api_key': API_KEY,\n",
    "    '_per_page': 100\n",
    "}\n",
    "ids = set(grants_df['ope id'].values) - {fp.split('/')[-1][:8] for fp in glob.glob('data/*.json')}\n",
    "\n",
    "for ope_id in ids:\n",
    "    params = {'ope8_id': ope_id}\n",
    "    local_filename = f'{ope_id}_tuition_data.json'\n",
    "    response = requests.get(url, params=params)\n",
    "    \n",
    "    if response.status_code == 200:\n",
    "        with open(local_filename, 'wb') as out_file:\n",
    "            out_file.write(response.content)\n",
    "    if response.status_code != 200:\n",
    "        print(f'error: {response.url}, {response.status_code}, {json.dumps(response.text)}')\n",
    "    if int(response.headers['X-RateLimit-Remaining']) == 0:\n",
    "        print('stopping, over rate limit')\n",
    "        break\n",
    "\n",
    "    print('X-RateLimit-Remaining:', int(data.response.headers['X-RateLimit-Remaining']))"
   ]
  },
  {
   "cell_type": "markdown",
   "metadata": {},
   "source": [
    "#### Combine the datasets:\n",
    "The grants data are in semi-regularly formatted excel spreadsheets, the code below extracts the relevant data from the sheets."
   ]
  },
  {
   "cell_type": "code",
   "execution_count": 52,
   "metadata": {},
   "outputs": [
    {
     "name": "stdout",
     "output_type": "stream",
     "text": [
      "(91819, 4)\n",
      "4993\n"
     ]
    },
    {
     "data": {
      "text/html": [
       "<div>\n",
       "<style scoped>\n",
       "    .dataframe tbody tr th:only-of-type {\n",
       "        vertical-align: middle;\n",
       "    }\n",
       "\n",
       "    .dataframe tbody tr th {\n",
       "        vertical-align: top;\n",
       "    }\n",
       "\n",
       "    .dataframe thead th {\n",
       "        text-align: right;\n",
       "    }\n",
       "</style>\n",
       "<table border=\"1\" class=\"dataframe\">\n",
       "  <thead>\n",
       "    <tr style=\"text-align: right;\">\n",
       "      <th></th>\n",
       "      <th>ope8_id</th>\n",
       "      <th>year</th>\n",
       "      <th>out_of_state_tuition</th>\n",
       "      <th>in_state_tuition</th>\n",
       "    </tr>\n",
       "  </thead>\n",
       "  <tbody>\n",
       "    <tr>\n",
       "      <th>2451</th>\n",
       "      <td>00117200</td>\n",
       "      <td>2000</td>\n",
       "      <td>23234.0</td>\n",
       "      <td>23234.0</td>\n",
       "    </tr>\n",
       "    <tr>\n",
       "      <th>13906</th>\n",
       "      <td>00204000</td>\n",
       "      <td>1996</td>\n",
       "      <td>NaN</td>\n",
       "      <td>NaN</td>\n",
       "    </tr>\n",
       "    <tr>\n",
       "      <th>71419</th>\n",
       "      <td>02331300</td>\n",
       "      <td>2003</td>\n",
       "      <td>NaN</td>\n",
       "      <td>NaN</td>\n",
       "    </tr>\n",
       "    <tr>\n",
       "      <th>38494</th>\n",
       "      <td>00393700</td>\n",
       "      <td>2015</td>\n",
       "      <td>5780.0</td>\n",
       "      <td>5780.0</td>\n",
       "    </tr>\n",
       "    <tr>\n",
       "      <th>39416</th>\n",
       "      <td>00407200</td>\n",
       "      <td>2003</td>\n",
       "      <td>13995.0</td>\n",
       "      <td>13995.0</td>\n",
       "    </tr>\n",
       "  </tbody>\n",
       "</table>\n",
       "</div>"
      ],
      "text/plain": [
       "        ope8_id  year  out_of_state_tuition  in_state_tuition\n",
       "2451   00117200  2000               23234.0           23234.0\n",
       "13906  00204000  1996                   NaN               NaN\n",
       "71419  02331300  2003                   NaN               NaN\n",
       "38494  00393700  2015                5780.0            5780.0\n",
       "39416  00407200  2003               13995.0           13995.0"
      ]
     },
     "execution_count": 52,
     "metadata": {},
     "output_type": "execute_result"
    }
   ],
   "source": [
    "filepaths = glob.glob('*_tuition_data.json')\n",
    "school_data = []\n",
    "for fp in filepaths:\n",
    "    with open(fp, 'r') as infile:\n",
    "        d = json.load(infile)\n",
    "    if len(d['results']) == 0:\n",
    "        continue\n",
    "    for k, v in d['results'][0].items():\n",
    "        try:\n",
    "            row = {\n",
    "                'ope8_id': fp.split('/')[-1][:8],\n",
    "                'year': int(k),\n",
    "                'out_of_state_tuition': v['cost']['tuition']['out_of_state'],\n",
    "                'in_state_tuition': v['cost']['tuition']['in_state'],\n",
    "            }\n",
    "            school_data.append(row)\n",
    "        except:\n",
    "            pass\n",
    "\n",
    "tuition_df = pd.DataFrame(school_data, columns=['ope8_id', 'year', 'out_of_state_tuition', 'in_state_tuition'])\n",
    "tuition_df = tuition_df.sort_values(by=['ope8_id', 'year']).reset_index(drop=True)\n",
    "print(tuition_df.shape)\n",
    "print(len(tuition_df.ope8_id.unique()))\n",
    "tuition_df.sample(5)"
   ]
  },
  {
   "cell_type": "code",
   "execution_count": 53,
   "metadata": {},
   "outputs": [
    {
     "name": "stdout",
     "output_type": "stream",
     "text": [
      "(65518, 15)\n"
     ]
    },
    {
     "data": {
      "text/html": [
       "<div>\n",
       "<style scoped>\n",
       "    .dataframe tbody tr th:only-of-type {\n",
       "        vertical-align: middle;\n",
       "    }\n",
       "\n",
       "    .dataframe tbody tr th {\n",
       "        vertical-align: top;\n",
       "    }\n",
       "\n",
       "    .dataframe thead th {\n",
       "        text-align: right;\n",
       "    }\n",
       "</style>\n",
       "<table border=\"1\" class=\"dataframe\">\n",
       "  <thead>\n",
       "    <tr style=\"text-align: right;\">\n",
       "      <th></th>\n",
       "      <th>ope id</th>\n",
       "      <th>school</th>\n",
       "      <th>state</th>\n",
       "      <th>zip code</th>\n",
       "      <th>school type</th>\n",
       "      <th>pell grant ytd recipients</th>\n",
       "      <th>pell grant ytd disbursements</th>\n",
       "      <th>spreadsheet</th>\n",
       "      <th>academic_year</th>\n",
       "      <th>start_year</th>\n",
       "      <th>maximum_pell_grant</th>\n",
       "      <th>ope8_id</th>\n",
       "      <th>year</th>\n",
       "      <th>out_of_state_tuition</th>\n",
       "      <th>in_state_tuition</th>\n",
       "    </tr>\n",
       "  </thead>\n",
       "  <tbody>\n",
       "    <tr>\n",
       "      <th>33842</th>\n",
       "      <td>00116300</td>\n",
       "      <td>CHAFFEY COMMUNITY COLLEGE</td>\n",
       "      <td>CA</td>\n",
       "      <td>917379400</td>\n",
       "      <td>PUBLIC</td>\n",
       "      <td>8178</td>\n",
       "      <td>24161737</td>\n",
       "      <td>Q41213AY</td>\n",
       "      <td>2012</td>\n",
       "      <td>2012</td>\n",
       "      <td>5930</td>\n",
       "      <td>00116300</td>\n",
       "      <td>2012.0</td>\n",
       "      <td>6169.0</td>\n",
       "      <td>1153.0</td>\n",
       "    </tr>\n",
       "    <tr>\n",
       "      <th>48108</th>\n",
       "      <td>02606300</td>\n",
       "      <td>PAUL MITCHELL THE SCHOOL WICHITA</td>\n",
       "      <td>KS</td>\n",
       "      <td>672261321</td>\n",
       "      <td>Proprietary</td>\n",
       "      <td>136</td>\n",
       "      <td>515309</td>\n",
       "      <td>Q41415AY</td>\n",
       "      <td>2014</td>\n",
       "      <td>2014</td>\n",
       "      <td>5890</td>\n",
       "      <td>02606300</td>\n",
       "      <td>2014.0</td>\n",
       "      <td>NaN</td>\n",
       "      <td>NaN</td>\n",
       "    </tr>\n",
       "    <tr>\n",
       "      <th>28830</th>\n",
       "      <td>00280600</td>\n",
       "      <td>ROCHESTER INSTITUTE OF TECHNOLOGY</td>\n",
       "      <td>NY</td>\n",
       "      <td>146235608</td>\n",
       "      <td>Private-Nonprofit</td>\n",
       "      <td>4378</td>\n",
       "      <td>17252884</td>\n",
       "      <td>Q41112AY</td>\n",
       "      <td>2011</td>\n",
       "      <td>2011</td>\n",
       "      <td>6010</td>\n",
       "      <td>00280600</td>\n",
       "      <td>2011.0</td>\n",
       "      <td>32037.0</td>\n",
       "      <td>32037.0</td>\n",
       "    </tr>\n",
       "    <tr>\n",
       "      <th>5909</th>\n",
       "      <td>00161400</td>\n",
       "      <td>KAUAI COMMUNITY COLLEGE</td>\n",
       "      <td>HI</td>\n",
       "      <td>967669591</td>\n",
       "      <td>PUBLIC</td>\n",
       "      <td>173</td>\n",
       "      <td>397713</td>\n",
       "      <td>Q40708AY</td>\n",
       "      <td>2007</td>\n",
       "      <td>2007</td>\n",
       "      <td>5060</td>\n",
       "      <td>00161400</td>\n",
       "      <td>2007.0</td>\n",
       "      <td>6184.0</td>\n",
       "      <td>1552.0</td>\n",
       "    </tr>\n",
       "    <tr>\n",
       "      <th>28862</th>\n",
       "      <td>00285300</td>\n",
       "      <td>SUNY MARITIME COLLEGE</td>\n",
       "      <td>NY</td>\n",
       "      <td>104654198</td>\n",
       "      <td>Public</td>\n",
       "      <td>449</td>\n",
       "      <td>1799213</td>\n",
       "      <td>Q41112AY</td>\n",
       "      <td>2011</td>\n",
       "      <td>2011</td>\n",
       "      <td>6010</td>\n",
       "      <td>00285300</td>\n",
       "      <td>2011.0</td>\n",
       "      <td>15507.0</td>\n",
       "      <td>6457.0</td>\n",
       "    </tr>\n",
       "  </tbody>\n",
       "</table>\n",
       "</div>"
      ],
      "text/plain": [
       "         ope id                                                                  school state   zip code        school type pell grant ytd recipients pell grant ytd disbursements spreadsheet  academic_year start_year  maximum_pell_grant   ope8_id    year  out_of_state_tuition  in_state_tuition\n",
       "33842  00116300  CHAFFEY COMMUNITY COLLEGE                                                 CA  917379400             PUBLIC                      8178                     24161737    Q41213AY           2012       2012                5930  00116300  2012.0                6169.0            1153.0\n",
       "48108  02606300                                        PAUL MITCHELL THE SCHOOL WICHITA    KS  672261321        Proprietary                       136                       515309    Q41415AY           2014       2014                5890  02606300  2014.0                   NaN               NaN\n",
       "28830  00280600                                       ROCHESTER INSTITUTE OF TECHNOLOGY    NY  146235608  Private-Nonprofit                      4378                     17252884    Q41112AY           2011       2011                6010  00280600  2011.0               32037.0           32037.0\n",
       "5909   00161400                                                 KAUAI COMMUNITY COLLEGE    HI  967669591             PUBLIC                       173                       397713    Q40708AY           2007       2007                5060  00161400  2007.0                6184.0            1552.0\n",
       "28862  00285300                                                   SUNY MARITIME COLLEGE    NY  104654198             Public                       449                      1799213    Q41112AY           2011       2011                6010  00285300  2011.0               15507.0            6457.0"
      ]
     },
     "execution_count": 53,
     "metadata": {},
     "output_type": "execute_result"
    }
   ],
   "source": [
    "grants_df = grants_df.merge(\n",
    "    pell_grant_data[['start_year', 'maximum_pell_grant']],\n",
    "    left_on=['academic_year'],\n",
    "    right_on=['start_year'],\n",
    ")\n",
    "grants_df['academic_year'] = grants_df['academic_year'].astype('int64')\n",
    "\n",
    "_df = grants_df.merge(\n",
    "    tuition_df, \n",
    "    how='left',\n",
    "    left_on=['ope id', 'academic_year'],\n",
    "    right_on=['ope8_id', 'year'],\n",
    ")\n",
    "\n",
    "print(_df.shape)\n",
    "_df.sample(5)"
   ]
  },
  {
   "cell_type": "markdown",
   "metadata": {},
   "source": [
    "### Preprocess:"
   ]
  },
  {
   "cell_type": "markdown",
   "metadata": {},
   "source": [
    "In order to transform the raw data into a state prepared for modeling, some preprocessing must occur. There are three predominant transformations: `calculate_average_amount()`, `convert_region()`, and determining the `grant_coverage_percent` based on in-state or out-of-state students, as well as the cleanup and standarization of some columns."
   ]
  },
  {
   "cell_type": "code",
   "execution_count": 59,
   "metadata": {
    "scrolled": false
   },
   "outputs": [],
   "source": [
    "_df = _df.rename(columns={'school type': 'school_type'})\n",
    "_df = _df.drop(columns=['ope8_id', 'year'])\n",
    "_df = _df[~_df['pell grant ytd recipients'].isin(['-'])]\n",
    "\n",
    "def convert_to_numeric(x):\n",
    "    try:\n",
    "        return pd.to_numeric(x)\n",
    "    except:\n",
    "        return np.nan\n",
    "\n",
    "_df['pell grant ytd disbursements'] = _df['pell grant ytd disbursements'].apply(convert_to_numeric)\n",
    "_df['pell grant ytd recipients'] = _df['pell grant ytd recipients'].apply(convert_to_numeric)\n",
    "_df['school_type'] = _df['school_type'].str.lower()"
   ]
  },
  {
   "cell_type": "markdown",
   "metadata": {},
   "source": [
    "The first transformation, `calculate_average_amount()`, calculates teh average amount of grant disbursements by dividing the total grant amount per institution per year by the total number of grant recipients per institution per year."
   ]
  },
  {
   "cell_type": "code",
   "execution_count": 55,
   "metadata": {},
   "outputs": [],
   "source": [
    "def calculate_average_amount(row):\n",
    "    if row['pell grant ytd recipients'] > 0:\n",
    "        return row['pell grant ytd disbursements'] / row['pell grant ytd recipients']\n",
    "    else:\n",
    "        return 0.0\n",
    "\n",
    "_df['avg_amount'] = _df.apply(calculate_average_amount, axis=1)"
   ]
  },
  {
   "cell_type": "markdown",
   "metadata": {},
   "source": [
    "The second transformation, `convert_region()`, determines the educational institution's geographical region by the state it's located in. This reduces feature complexity and allows for broader geographic patterns to be a identified within the model."
   ]
  },
  {
   "cell_type": "code",
   "execution_count": 56,
   "metadata": {},
   "outputs": [],
   "source": [
    "state_regions = {\n",
    "    'northeast': ['CT', 'ME', 'MA', 'NH', 'RI', 'VT', 'NY', 'NJ' , 'PA'],\n",
    "    'midwest': ['IL', 'IN', 'MI', 'OH', 'WI', 'IA', 'KS', 'MN', 'MO', 'NE', 'ND', 'SD'],\n",
    "    'south': ['DE', 'FL', 'GA', 'MD', 'NC', 'SC', 'VA', 'DC', 'WV', 'AL', 'KY', 'MS', 'TN', 'AR', 'LA', 'OK', 'TX', 'PR', 'AS', 'VI'],\n",
    "    'west': ['AZ', 'CO', 'ID', 'MT', 'NV', 'NM', 'UT', 'WY', 'AK', 'CA', 'HI', 'OR', 'WA', 'GU', 'FM', 'MH', 'MP', 'PW'],\n",
    "}\n",
    "\n",
    "def convert_region(state_abbr):\n",
    "    for region, states in state_regions.items():\n",
    "        if state_abbr in states:\n",
    "            return region\n",
    "    return\n",
    "\n",
    "\n",
    "_df['region'] = _df['state'].apply(convert_region)\n",
    "_df = _df.dropna(subset=['region'])"
   ]
  },
  {
   "cell_type": "markdown",
   "metadata": {},
   "source": [
    "Lastly, the final transformation required in the preprocessing step is to determine the `grant_coverage_percent` by spliting the institutional grant support by in-state and out-of-state students."
   ]
  },
  {
   "cell_type": "code",
   "execution_count": 57,
   "metadata": {},
   "outputs": [
    {
     "name": "stdout",
     "output_type": "stream",
     "text": [
      "(7008, 4)\n"
     ]
    },
    {
     "data": {
      "text/html": [
       "<div>\n",
       "<style scoped>\n",
       "    .dataframe tbody tr th:only-of-type {\n",
       "        vertical-align: middle;\n",
       "    }\n",
       "\n",
       "    .dataframe tbody tr th {\n",
       "        vertical-align: top;\n",
       "    }\n",
       "\n",
       "    .dataframe thead th {\n",
       "        text-align: right;\n",
       "    }\n",
       "</style>\n",
       "<table border=\"1\" class=\"dataframe\">\n",
       "  <thead>\n",
       "    <tr style=\"text-align: right;\">\n",
       "      <th></th>\n",
       "      <th>school_type</th>\n",
       "      <th>region</th>\n",
       "      <th>in_state</th>\n",
       "      <th>grant_coverage_percent</th>\n",
       "    </tr>\n",
       "  </thead>\n",
       "  <tbody>\n",
       "    <tr>\n",
       "      <th>35645</th>\n",
       "      <td>public</td>\n",
       "      <td>midwest</td>\n",
       "      <td>True</td>\n",
       "      <td>1.374659</td>\n",
       "    </tr>\n",
       "    <tr>\n",
       "      <th>16906</th>\n",
       "      <td>public</td>\n",
       "      <td>west</td>\n",
       "      <td>True</td>\n",
       "      <td>5.160827</td>\n",
       "    </tr>\n",
       "    <tr>\n",
       "      <th>17561</th>\n",
       "      <td>public</td>\n",
       "      <td>south</td>\n",
       "      <td>True</td>\n",
       "      <td>1.686983</td>\n",
       "    </tr>\n",
       "    <tr>\n",
       "      <th>8541</th>\n",
       "      <td>public</td>\n",
       "      <td>south</td>\n",
       "      <td>False</td>\n",
       "      <td>1.049253</td>\n",
       "    </tr>\n",
       "    <tr>\n",
       "      <th>7216</th>\n",
       "      <td>public</td>\n",
       "      <td>south</td>\n",
       "      <td>True</td>\n",
       "      <td>1.838589</td>\n",
       "    </tr>\n",
       "  </tbody>\n",
       "</table>\n",
       "</div>"
      ],
      "text/plain": [
       "      school_type   region  in_state  grant_coverage_percent\n",
       "35645      public  midwest      True                1.374659\n",
       "16906      public     west      True                5.160827\n",
       "17561      public    south      True                1.686983\n",
       "8541       public    south     False                1.049253\n",
       "7216       public    south      True                1.838589"
      ]
     },
     "execution_count": 57,
     "metadata": {},
     "output_type": "execute_result"
    }
   ],
   "source": [
    "df_1 = _df.copy()[_df['maximum_pell_grant'] >= _df['out_of_state_tuition']]\n",
    "df_1['in_state'] = False\n",
    "df_1['grant_coverage_percent'] = df_1['avg_amount'] / df_1['out_of_state_tuition']\n",
    "\n",
    "df_2 = _df.copy()[_df['maximum_pell_grant'] >= _df['in_state_tuition']]\n",
    "df_2['in_state'] = True\n",
    "df_2['grant_coverage_percent'] = df_2['avg_amount'] / df_2['in_state_tuition']\n",
    "\n",
    "df = pd.concat([\n",
    "    df_1[['school_type', 'region', 'in_state', 'grant_coverage_percent']],\n",
    "    df_2[['school_type', 'region', 'in_state', 'grant_coverage_percent']]\n",
    "])\n",
    "\n",
    "df = df[df['grant_coverage_percent'] >= 1]\n",
    "df = df.replace([np.inf, -np.inf], np.nan).dropna(subset=['grant_coverage_percent'])\n",
    "\n",
    "print(df.shape)\n",
    "df.sample(5)"
   ]
  },
  {
   "cell_type": "markdown",
   "metadata": {},
   "source": [
    "## Model:"
   ]
  },
  {
   "cell_type": "code",
   "execution_count": 60,
   "metadata": {},
   "outputs": [
    {
     "name": "stdout",
     "output_type": "stream",
     "text": [
      "5606 1402\n"
     ]
    }
   ],
   "source": [
    "feature_columns = ['school_type', 'region', 'in_state']\n",
    "target_column = 'grant_coverage_percent'\n",
    "\n",
    "x = df.copy()[feature_columns]\n",
    "y = df.copy()[target_column]\n",
    "\n",
    "x_train, x_test, y_train, y_test = train_test_split(x, y, test_size=0.2, random_state=1337)\n",
    "\n",
    "print(len(x_train), len(x_test))"
   ]
  },
  {
   "cell_type": "code",
   "execution_count": 65,
   "metadata": {},
   "outputs": [
    {
     "data": {
      "text/plain": [
       "Pipeline(memory=None,\n",
       "         steps=[('feature_selector',\n",
       "                 FeatureSelector(columns=['school_type', 'region',\n",
       "                                          'in_state'])),\n",
       "                ('feature_column_encoder',\n",
       "                 <sklearn_transformers.preprocessing.MultiColumnLabelEncoder object at 0x12cf47c50>),\n",
       "                ('encoder',\n",
       "                 OneHotEncoder(categorical_features=None, categories=None,\n",
       "                               drop=None, dtype=<class 'numpy.float64'>,\n",
       "                               handle_unknown='ignore', n_v...\n",
       "                 RegressorWithNoise(regressor=RandomForestRegressor(bootstrap=True,\n",
       "                                                                    criterion='mse',\n",
       "                                                                    max_depth=30,\n",
       "                                                                    max_features='sqrt',\n",
       "                                                                    max_leaf_nodes=None,\n",
       "                                                                    min_impurity_decrease=0.0,\n",
       "                                                                    min_impurity_split=None,\n",
       "                                                                    min_samples_leaf=1,\n",
       "                                                                    min_samples_split=2,\n",
       "                                                                    min_weight_fraction_leaf=0.0,\n",
       "                                                                    n_estimators=1000,\n",
       "                                                                    n_jobs=None,\n",
       "                                                                    oob_score=False,\n",
       "                                                                    random_state=1337,\n",
       "                                                                    verbose=0,\n",
       "                                                                    warm_start=False)))],\n",
       "         verbose=False)"
      ]
     },
     "execution_count": 65,
     "metadata": {},
     "output_type": "execute_result"
    }
   ],
   "source": [
    "model = Pipeline([\n",
    "    ('feature_selector', FeatureSelector(columns=feature_columns)),\n",
    "    ('feature_column_encoder', MultiColumnLabelEncoder(columns=feature_columns)),\n",
    "    ('encoder', OneHotEncoder(handle_unknown='ignore', sparse=False)),\n",
    "    ('estimator', RegressorWithNoise(\n",
    "        RandomForestRegressor(\n",
    "            n_estimators=1000,\n",
    "            max_features='sqrt',\n",
    "            max_depth=30,\n",
    "            random_state=1337,\n",
    "        )\n",
    "    ))\n",
    "])\n",
    "model.fit(x_train, y_train)"
   ]
  },
  {
   "cell_type": "code",
   "execution_count": 66,
   "metadata": {},
   "outputs": [
    {
     "name": "stdout",
     "output_type": "stream",
     "text": [
      "Accuracy:                     66.56835\n",
      "MSE                           0.667359\n",
      "RMSE                          0.816921\n",
      "RMSLE                         0.246439\n",
      "MAE                           0.570403\n",
      "R2                            0.287289\n",
      "Adj R2                        0.285722\n",
      "Median                        1.526953\n",
      "Avg absolute error (degrees)  0.570403\n",
      "\n",
      "----------------------------------------\n",
      "Feature Importances:\n",
      "region=west                   0.535032\n",
      "region=south                  0.235529\n",
      "region=midwest                0.071175\n",
      "in_state=False                0.048998\n",
      "in_state=True                 0.048195\n",
      "school_type=public            0.025314\n",
      "school_type=private-nonprofit 0.022218\n",
      "region=northeast              0.013398\n",
      "school_type=proprietary       0.000142\n"
     ]
    },
    {
     "data": {
      "image/png": "[encoded data removed]",
      "text/plain": [
       "<Figure size 432x288 with 1 Axes>"
      ]
     },
     "metadata": {
      "image/png": {
       "height": 270,
       "width": 370
      },
      "needs_background": "light"
     },
     "output_type": "display_data"
    },
    {
     "data": {
      "text/plain": [
       "array([1.57357623, 1.53039386, 1.45738286, 1.53785178, 1.47611995])"
      ]
     },
     "metadata": {},
     "output_type": "display_data"
    }
   ],
   "source": [
    "regression_report.evaluate(model, x_test, y_test, encoder_step_label='feature_column_encoder')\n",
    "display(model.predict(x_test.sample(5)))"
   ]
  },
  {
   "cell_type": "code",
   "execution_count": null,
   "metadata": {},
   "outputs": [],
   "source": []
  }
 ],
 "metadata": {
  "kernelspec": {
   "display_name": "Python 3",
   "language": "python",
   "name": "python3"
  },
  "language_info": {
   "codemirror_mode": {
    "name": "ipython",
    "version": 3
   },
   "file_extension": ".py",
   "mimetype": "text/x-python",
   "name": "python",
   "nbconvert_exporter": "python",
   "pygments_lexer": "ipython3",
   "version": "3.6.5"
  }
 },
 "nbformat": 4,
 "nbformat_minor": 2
}
